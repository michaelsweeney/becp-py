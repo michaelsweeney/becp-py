{
 "cells": [
  {
   "cell_type": "code",
   "execution_count": 2,
   "metadata": {},
   "outputs": [
    {
     "name": "stdout",
     "output_type": "stream",
     "text": [
      "The autoreload extension is already loaded. To reload it, use:\n",
      "  %reload_ext autoreload\n"
     ]
    }
   ],
   "source": [
    "import requests\n",
    "import json\n",
    "import pandas as pd\n",
    "import sys\n",
    "basepath = '/'.join(os.getcwd().split(\"/\")[:-1])\n",
    "\n",
    "if basepath not in sys.path:\n",
    "    sys.path.append(basepath)\n",
    "\n",
    "from becp import projections\n",
    "import plotly.express as px\n",
    "\n",
    "import plotly.graph_objects as go\n",
    "\n",
    "%load_ext autoreload\n",
    "%autoreload 2\n"
   ]
  },
  {
   "cell_type": "code",
   "execution_count": 92,
   "metadata": {},
   "outputs": [
    {
     "data": {
      "text/plain": [
       "component                   PeopleLightsEquipmentWater Use EquipmentInfilt...\n",
       "cooling_sensible_btuh_sf                                            13.516601\n",
       "cooling_latent_btuh_sf                                               0.636295\n",
       "heating_btuh_sf                                                      3.899998\n",
       "dtype: object"
      ]
     },
     "execution_count": 92,
     "metadata": {},
     "output_type": "execute_result"
    }
   ],
   "source": [
    "area = 498637\n",
    "\n",
    "design_type = 'ApartmentHighRise'\n",
    "\n",
    "params = {\n",
    "    'state': 'NY',\n",
    "    'climate_zone': '4A',\n",
    "    'projection_case': 'MidCase',\n",
    "    'design_areas': [\n",
    "        # {\n",
    "        #     'type': design_type,\n",
    "        #     'area': area,\n",
    "        #     'heating_fuel': 'natural gas',\n",
    "        #     'dhw_fuel': 'natural gas',\n",
    "        #     'heating_cop': 0.8,\n",
    "        #     'dhw_cop': 0.8,\n",
    "        #     'ashrae_standard': 'STD2016'\n",
    "        # },     \n",
    "        {\n",
    "            'type': 'OfficeLarge',\n",
    "            'area': area,\n",
    "            'heating_fuel': 'natural gas',\n",
    "            'dhw_fuel': 'natural gas',\n",
    "            'heating_cop': 0.8,\n",
    "            'dhw_cop': 0.8,\n",
    "            'ashrae_standard': 'STD2016'\n",
    "        },    \n",
    "        ]\n",
    "    }\n",
    "\n",
    "host =  'https://akf-becp-pyapi.herokuapp.com/'\n",
    "host = 'http://127.0.0.1:5001'\n",
    "endpoint = 'get_projection_from_reference_buildings'\n",
    "payload = json.dumps(params)\n",
    "\n",
    "results = requests.get(f'{host}/{endpoint}/?params={json.dumps(params)}').json()\n",
    "\n",
    "pd.DataFrame(results['sizing']['sizing_btuh_per_sf']).sum()\n",
    "\n",
    "# pd.DataFrame(results['enduses']['enduses_absolute_kbtu']).groupby('enduse').sum()\n",
    "\n"
   ]
  },
  {
   "cell_type": "code",
   "execution_count": 65,
   "metadata": {},
   "outputs": [
    {
     "data": {
      "text/plain": [
       "cooling_sensible_btuh_sf    13.516601\n",
       "cooling_latent_btuh_sf       0.636295\n",
       "heating_btuh_sf              3.899998\n",
       "dtype: float64"
      ]
     },
     "execution_count": 65,
     "metadata": {},
     "output_type": "execute_result"
    }
   ],
   "source": [
    "from becp import projections\n",
    "\n",
    "dfs = projections.compile_reference_building_sizing(params['design_areas'], '4A')\n",
    "dfs['sizing_btuh_per_sf'].sum()"
   ]
  },
  {
   "cell_type": "code",
   "execution_count": 38,
   "metadata": {},
   "outputs": [
    {
     "data": {
      "text/plain": [
       "heating_sensible_btuh_sf     4303.654034\n",
       "heating_latent_btuh_sf        279.865576\n",
       "cooling_sensible_btuh_sf    13634.588034\n",
       "cooling_latent_btuh_sf       2390.837788\n",
       "dtype: float64"
      ]
     },
     "execution_count": 38,
     "metadata": {},
     "output_type": "execute_result"
    }
   ],
   "source": []
  },
  {
   "cell_type": "code",
   "execution_count": 151,
   "metadata": {},
   "outputs": [],
   "source": []
  },
  {
   "cell_type": "code",
   "execution_count": null,
   "metadata": {},
   "outputs": [],
   "source": []
  },
  {
   "cell_type": "code",
   "execution_count": null,
   "metadata": {},
   "outputs": [],
   "source": []
  },
  {
   "cell_type": "code",
   "execution_count": null,
   "metadata": {},
   "outputs": [],
   "source": []
  },
  {
   "cell_type": "code",
   "execution_count": null,
   "metadata": {},
   "outputs": [],
   "source": []
  },
  {
   "cell_type": "code",
   "execution_count": null,
   "metadata": {},
   "outputs": [],
   "source": []
  },
  {
   "attachments": {},
   "cell_type": "markdown",
   "metadata": {},
   "source": [
    "\n",
    "proj = [\n",
    "    projections.get_projection_from_reference_buildings({\n",
    "    'state': 'NY',\n",
    "    'climate_zone': '4A',\n",
    "    'projection_case': case[2],\n",
    "    'design_areas': [\n",
    "        {\n",
    "            'type': 'SmallOffice',\n",
    "            'area': 200000,\n",
    "            'heating_fuel': case[1],\n",
    "            'dhw_fuel': case[1],\n",
    "            'heating_cop': case[0],\n",
    "            'dhw_cop': case[0],\n",
    "            'ashrae_standard': '90.1-2016'\n",
    "        },\n",
    "        {\n",
    "            'type': 'MediumOffice',\n",
    "            'area': 10000,\n",
    "            'heating_fuel': 'Natural Gas',\n",
    "            'dhw_fuel': 'Natural Gas',\n",
    "            'heating_cop': 0.8,\n",
    "            'dhw_cop': 0.8,\n",
    "            'ashrae_standard': '90.1-2007'\n",
    "        },\n",
    "    ]\n",
    "}) for case in cases]"
   ]
  }
 ],
 "metadata": {
  "kernelspec": {
   "display_name": "base",
   "language": "python",
   "name": "python3"
  },
  "language_info": {
   "codemirror_mode": {
    "name": "ipython",
    "version": 3
   },
   "file_extension": ".py",
   "mimetype": "text/x-python",
   "name": "python",
   "nbconvert_exporter": "python",
   "pygments_lexer": "ipython3",
   "version": "3.9.7"
  },
  "orig_nbformat": 4,
  "vscode": {
   "interpreter": {
    "hash": "f6eee3cb9eb0c0c13babd2ded344812dbbef2888142281a31f969e18f0ee83cf"
   }
  }
 },
 "nbformat": 4,
 "nbformat_minor": 2
}
