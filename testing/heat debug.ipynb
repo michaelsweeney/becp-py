{
 "cells": [
  {
   "cell_type": "code",
   "execution_count": 1,
   "metadata": {},
   "outputs": [],
   "source": [
    "import requests\n",
    "import json\n",
    "import pandas as pd\n",
    "import sys\n",
    "basepath = '/'.join(os.getcwd().split(\"/\")[:-1])\n",
    "if basepath not in sys.path:\n",
    "    sys.path.append(basepath)\n",
    "\n",
    "from becp import projections\n",
    "import plotly.express as px\n",
    "%load_ext autoreload\n",
    "%autoreload 2\n"
   ]
  },
  {
   "cell_type": "code",
   "execution_count": null,
   "metadata": {},
   "outputs": [],
   "source": []
  },
  {
   "cell_type": "code",
   "execution_count": 15,
   "metadata": {},
   "outputs": [
    {
     "data": {
      "text/plain": [
       "[{'state': 'NY', 'case': 'MidCase', 'year': 2022, 'lrmer_co2e_kg_mwh': 397.5},\n",
       " {'state': 'NY', 'case': 'MidCase', 'year': 2024, 'lrmer_co2e_kg_mwh': 360.4},\n",
       " {'state': 'NY', 'case': 'MidCase', 'year': 2026, 'lrmer_co2e_kg_mwh': 305.0},\n",
       " {'state': 'NY', 'case': 'MidCase', 'year': 2028, 'lrmer_co2e_kg_mwh': 235.8},\n",
       " {'state': 'NY', 'case': 'MidCase', 'year': 2030, 'lrmer_co2e_kg_mwh': 193.8},\n",
       " {'state': 'NY', 'case': 'MidCase', 'year': 2032, 'lrmer_co2e_kg_mwh': 157.2},\n",
       " {'state': 'NY', 'case': 'MidCase', 'year': 2034, 'lrmer_co2e_kg_mwh': 136.5},\n",
       " {'state': 'NY', 'case': 'MidCase', 'year': 2036, 'lrmer_co2e_kg_mwh': 104.5},\n",
       " {'state': 'NY', 'case': 'MidCase', 'year': 2038, 'lrmer_co2e_kg_mwh': 90.3},\n",
       " {'state': 'NY', 'case': 'MidCase', 'year': 2040, 'lrmer_co2e_kg_mwh': 99.7},\n",
       " {'state': 'NY', 'case': 'MidCase', 'year': 2042, 'lrmer_co2e_kg_mwh': 110.6},\n",
       " {'state': 'NY', 'case': 'MidCase', 'year': 2044, 'lrmer_co2e_kg_mwh': 108.2},\n",
       " {'state': 'NY', 'case': 'MidCase', 'year': 2046, 'lrmer_co2e_kg_mwh': 90.9},\n",
       " {'state': 'NY', 'case': 'MidCase', 'year': 2048, 'lrmer_co2e_kg_mwh': 81.2},\n",
       " {'state': 'NY', 'case': 'MidCase', 'year': 2050, 'lrmer_co2e_kg_mwh': 74.2}]"
      ]
     },
     "execution_count": 15,
     "metadata": {},
     "output_type": "execute_result"
    }
   ],
   "source": [
    "\n",
    "params = {\n",
    "    'state': 'NY',\n",
    "    'climate_zone': '4A',\n",
    "    'projection_case': 'MidCase',\n",
    "    'design_areas': [\n",
    "        {\n",
    "            'type': 'ApartmentHighRise',\n",
    "            'area': 75999.49,\n",
    "            'heating_fuel': 'natural gas',\n",
    "            'dhw_fuel': 'natural gas',\n",
    "            'heating_cop': 0.8,\n",
    "            'dhw_cop': 1/0.85,\n",
    "            'cooling_cop': 4,\n",
    "            'ashrae_standard': 'STD2016'\n",
    "        },     \n",
    "    ]\n",
    "}\n",
    "\n",
    "host =  'https://akf-becp-pyapi.herokuapp.com/'\n",
    "# host = 'http://127.0.0.1:5001'\n",
    "endpoint = 'get_projection_from_reference_buildings'\n",
    "payload = json.dumps(params)\n",
    "\n",
    "r = requests.get(f'{host}/{endpoint}/?params={payload}')\n",
    "enduses = r.json()['enduses']['enduses_absolute_kbtu']\n",
    "pd.DataFrame(enduses)\n",
    "\n",
    "\n",
    "factors = r.json()['projection_factors']\n",
    "\n"
   ]
  },
  {
   "cell_type": "code",
   "execution_count": null,
   "metadata": {},
   "outputs": [],
   "source": []
  },
  {
   "cell_type": "code",
   "execution_count": null,
   "metadata": {},
   "outputs": [],
   "source": []
  },
  {
   "cell_type": "code",
   "execution_count": 147,
   "metadata": {},
   "outputs": [
    {
     "data": {
      "text/plain": [
       "581006.7447058824"
      ]
     },
     "execution_count": 147,
     "metadata": {},
     "output_type": "execute_result"
    }
   ],
   "source": []
  },
  {
   "attachments": {},
   "cell_type": "markdown",
   "metadata": {},
   "source": [
    "\n",
    "proj = [\n",
    "    projections.get_projection_from_reference_buildings({\n",
    "    'state': 'NY',\n",
    "    'climate_zone': '4A',\n",
    "    'projection_case': case[2],\n",
    "    'design_areas': [\n",
    "        {\n",
    "            'type': 'SmallOffice',\n",
    "            'area': 200000,\n",
    "            'heating_fuel': case[1],\n",
    "            'dhw_fuel': case[1],\n",
    "            'heating_cop': case[0],\n",
    "            'dhw_cop': case[0],\n",
    "            'ashrae_standard': '90.1-2016'\n",
    "        },\n",
    "        {\n",
    "            'type': 'MediumOffice',\n",
    "            'area': 10000,\n",
    "            'heating_fuel': 'Natural Gas',\n",
    "            'dhw_fuel': 'Natural Gas',\n",
    "            'heating_cop': 0.8,\n",
    "            'dhw_cop': 0.8,\n",
    "            'ashrae_standard': '90.1-2007'\n",
    "        },\n",
    "    ]\n",
    "}) for case in cases]"
   ]
  }
 ],
 "metadata": {
  "kernelspec": {
   "display_name": "base",
   "language": "python",
   "name": "python3"
  },
  "language_info": {
   "codemirror_mode": {
    "name": "ipython",
    "version": 3
   },
   "file_extension": ".py",
   "mimetype": "text/x-python",
   "name": "python",
   "nbconvert_exporter": "python",
   "pygments_lexer": "ipython3",
   "version": "3.9.7"
  },
  "orig_nbformat": 4,
  "vscode": {
   "interpreter": {
    "hash": "f6eee3cb9eb0c0c13babd2ded344812dbbef2888142281a31f969e18f0ee83cf"
   }
  }
 },
 "nbformat": 4,
 "nbformat_minor": 2
}
