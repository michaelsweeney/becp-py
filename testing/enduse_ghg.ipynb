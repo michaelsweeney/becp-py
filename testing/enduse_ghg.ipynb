{
 "cells": [
  {
   "cell_type": "code",
   "execution_count": 1,
   "metadata": {},
   "outputs": [],
   "source": [
    "\n",
    "import sys\n",
    "import os\n",
    "import pandas as pd\n",
    "\n",
    "basepath = '/'.join(os.getcwd().split(\"/\")[:-1])\n",
    "if basepath not in sys.path:\n",
    "    sys.path.append(basepath)\n",
    "\n",
    "from becp import projections\n",
    "from becp.compliance import berdo_compliance, ll97_compliance\n",
    "import plotly.express as px\n",
    "%load_ext autoreload\n",
    "%autoreload 2\n",
    "\n",
    "\n",
    "\n"
   ]
  },
  {
   "cell_type": "code",
   "execution_count": 16,
   "metadata": {},
   "outputs": [
    {
     "data": {
      "text/plain": [
       "{'emissions_projection':     year  elec_kg_per_kbtu  kg_co2_absolute  kg_co2_per_sf\n",
       " 0   2022          0.116501    588307.731674       2.941539\n",
       " 1   2024          0.105627    538830.651439       2.694153\n",
       " 2   2026          0.089390    464948.434593       2.324742\n",
       " 3   2028          0.069109    372662.344236       1.863312\n",
       " 4   2030          0.056800    316650.555291       1.583253\n",
       " 5   2032          0.046073    267840.282067       1.339201\n",
       " 6   2034          0.040006    240234.471802       1.201172\n",
       " 7   2036          0.030627    197558.823082       0.987794\n",
       " 8   2038          0.026465    178621.503962       0.893108\n",
       " 9   2040          0.029220    191157.475774       0.955787\n",
       " 10  2042          0.032415    205693.868619       1.028469\n",
       " 11  2044          0.031712    202493.194965       1.012466\n",
       " 12  2046          0.026641    179421.672376       0.897108\n",
       " 13  2048          0.023798    166485.616358       0.832428\n",
       " 14  2050          0.021747    157150.318200       0.785752,\n",
       " 'enduses': {'enduses_absolute_kbtu':                                             kbtu_absolute\n",
       "  enduse             subcategory fuel                      \n",
       "  Cooling            General     Electricity   6.550650e+05\n",
       "  Exterior Lighting  General     Electricity   2.438088e+05\n",
       "  Fans               General     Electricity   6.020779e+05\n",
       "  Heating            General     Natural Gas   5.058594e+04\n",
       "  Interior Equipment General     Electricity   1.698469e+06\n",
       "  Interior Lighting  General     Electricity   1.350870e+06\n",
       "  Water Systems      General     Natural Gas   1.045181e+06,\n",
       "  'enduses_per_sf':                                             kbtu_per_sf\n",
       "  enduse             subcategory fuel                    \n",
       "  Cooling            General     Electricity     3.275325\n",
       "  Exterior Lighting  General     Electricity     1.219044\n",
       "  Fans               General     Electricity     3.010390\n",
       "  Heating            General     Natural Gas     0.252930\n",
       "  Interior Equipment General     Electricity     8.492345\n",
       "  Interior Lighting  General     Electricity     6.754352\n",
       "  Water Systems      General     Natural Gas     5.225903,\n",
       "  'area': 200000},\n",
       " 'projection_factors':    state     case  year  lrmer_co2e_kg_mwh\n",
       " 0     NY  MidCase  2022              397.5\n",
       " 1     NY  MidCase  2024              360.4\n",
       " 2     NY  MidCase  2026              305.0\n",
       " 3     NY  MidCase  2028              235.8\n",
       " 4     NY  MidCase  2030              193.8\n",
       " 5     NY  MidCase  2032              157.2\n",
       " 6     NY  MidCase  2034              136.5\n",
       " 7     NY  MidCase  2036              104.5\n",
       " 8     NY  MidCase  2038               90.3\n",
       " 9     NY  MidCase  2040               99.7\n",
       " 10    NY  MidCase  2042              110.6\n",
       " 11    NY  MidCase  2044              108.2\n",
       " 12    NY  MidCase  2046               90.9\n",
       " 13    NY  MidCase  2048               81.2\n",
       " 14    NY  MidCase  2050               74.2}"
      ]
     },
     "execution_count": 16,
     "metadata": {},
     "output_type": "execute_result"
    }
   ],
   "source": [
    "\n",
    "\n",
    "results = \\\n",
    "    projections.get_projection_from_reference_buildings({\n",
    "    'state': 'NY',\n",
    "    'climate_zone': '4A',\n",
    "    'projection_case': 'MidCase',\n",
    "    'design_areas': [\n",
    "        {\n",
    "            'type': 'SmallOffice',\n",
    "            'area': 200000,\n",
    "            'heating_fuel': 'Natural Gas',\n",
    "            'dhw_fuel': 'Natural Gas',\n",
    "            'heating_cop': 0.8,\n",
    "            'dhw_cop': 0.8,\n",
    "            'ashrae_standard': '90.1-2016'\n",
    "        },\n",
    "\n",
    "    ]\n",
    "})\n",
    "\n",
    "results\n",
    "\n"
   ]
  },
  {
   "cell_type": "code",
   "execution_count": 3,
   "metadata": {},
   "outputs": [],
   "source": []
  },
  {
   "cell_type": "code",
   "execution_count": null,
   "metadata": {},
   "outputs": [],
   "source": []
  },
  {
   "cell_type": "code",
   "execution_count": 9,
   "metadata": {},
   "outputs": [
    {
     "ename": "IndexError",
     "evalue": "index 0 is out of bounds for axis 0 with size 0",
     "output_type": "error",
     "traceback": [
      "\u001b[0;31m---------------------------------------------------------------------------\u001b[0m",
      "\u001b[0;31mIndexError\u001b[0m                                Traceback (most recent call last)",
      "\u001b[0;32m/var/folders/bb/ngmb9l4d165fp8n163x9x8t40000gn/T/ipykernel_10661/600294581.py\u001b[0m in \u001b[0;36m<module>\u001b[0;34m\u001b[0m\n\u001b[1;32m     25\u001b[0m }\n\u001b[1;32m     26\u001b[0m \u001b[0;34m\u001b[0m\u001b[0m\n\u001b[0;32m---> 27\u001b[0;31m end = projections.get_projection_from_reference_buildings(\n\u001b[0m\u001b[1;32m     28\u001b[0m     \u001b[0margdict\u001b[0m\u001b[0;34m\u001b[0m\u001b[0;34m\u001b[0m\u001b[0m\n\u001b[1;32m     29\u001b[0m )\n",
      "\u001b[0;32m~/code/AKF-BECP-py/becp/projections.py\u001b[0m in \u001b[0;36mget_projection_from_reference_buildings\u001b[0;34m(config, as_json)\u001b[0m\n\u001b[1;32m    201\u001b[0m     )\n\u001b[1;32m    202\u001b[0m \u001b[0;34m\u001b[0m\u001b[0m\n\u001b[0;32m--> 203\u001b[0;31m     design_enduses = compile_reference_building_enduses(\n\u001b[0m\u001b[1;32m    204\u001b[0m         design_areas, climate_zone)\n\u001b[1;32m    205\u001b[0m \u001b[0;34m\u001b[0m\u001b[0m\n",
      "\u001b[0;32m~/code/AKF-BECP-py/becp/projections.py\u001b[0m in \u001b[0;36mcompile_reference_building_enduses\u001b[0;34m(design_areas, climate_zone, eui_metric)\u001b[0m\n\u001b[1;32m     50\u001b[0m         \u001b[0mcooling_cop\u001b[0m \u001b[0;34m=\u001b[0m \u001b[0mget_key\u001b[0m\u001b[0;34m(\u001b[0m\u001b[0;34m'cooling_cop'\u001b[0m\u001b[0;34m,\u001b[0m \u001b[0md\u001b[0m\u001b[0;34m)\u001b[0m\u001b[0;34m\u001b[0m\u001b[0;34m\u001b[0m\u001b[0m\n\u001b[1;32m     51\u001b[0m \u001b[0;34m\u001b[0m\u001b[0m\n\u001b[0;32m---> 52\u001b[0;31m         ref_bldg_enduses = refbuild.get_reference_building(\n\u001b[0m\u001b[1;32m     53\u001b[0m             \u001b[0mclimate_zone\u001b[0m\u001b[0;34m=\u001b[0m\u001b[0mclimate_zone\u001b[0m\u001b[0;34m,\u001b[0m\u001b[0;34m\u001b[0m\u001b[0;34m\u001b[0m\u001b[0m\n\u001b[1;32m     54\u001b[0m             \u001b[0mashrae_standard\u001b[0m\u001b[0;34m=\u001b[0m\u001b[0mashrae_standard\u001b[0m\u001b[0;34m,\u001b[0m\u001b[0;34m\u001b[0m\u001b[0;34m\u001b[0m\u001b[0m\n",
      "\u001b[0;32m~/code/AKF-BECP-py/becp/refbuild.py\u001b[0m in \u001b[0;36mget_reference_building\u001b[0;34m(building_type, climate_zone, ashrae_standard)\u001b[0m\n\u001b[1;32m     41\u001b[0m     \u001b[0mquery\u001b[0m \u001b[0;34m=\u001b[0m \u001b[0;34mf'climate_zone == \"{climate_zone}\" & building_type == \"{building_type}\" & ashrae_standard == \"{ashrae_standard}\"'\u001b[0m\u001b[0;34m\u001b[0m\u001b[0;34m\u001b[0m\u001b[0m\n\u001b[1;32m     42\u001b[0m \u001b[0;34m\u001b[0m\u001b[0m\n\u001b[0;32m---> 43\u001b[0;31m     \u001b[0msimname\u001b[0m \u001b[0;34m=\u001b[0m \u001b[0msummaries\u001b[0m\u001b[0;34m.\u001b[0m\u001b[0mquery\u001b[0m\u001b[0;34m(\u001b[0m\u001b[0mquery\u001b[0m\u001b[0;34m)\u001b[0m\u001b[0;34m[\u001b[0m\u001b[0;34m'simname'\u001b[0m\u001b[0;34m]\u001b[0m\u001b[0;34m.\u001b[0m\u001b[0mvalues\u001b[0m\u001b[0;34m[\u001b[0m\u001b[0;36m0\u001b[0m\u001b[0;34m]\u001b[0m\u001b[0;34m\u001b[0m\u001b[0;34m\u001b[0m\u001b[0m\n\u001b[0m\u001b[1;32m     44\u001b[0m \u001b[0;34m\u001b[0m\u001b[0m\n\u001b[1;32m     45\u001b[0m     \u001b[0mquery_enduses\u001b[0m \u001b[0;34m=\u001b[0m \u001b[0menduses\u001b[0m\u001b[0;34m.\u001b[0m\u001b[0mquery\u001b[0m\u001b[0;34m(\u001b[0m\u001b[0;34mf'simname == \"{simname}\"'\u001b[0m\u001b[0;34m)\u001b[0m\u001b[0;34m\u001b[0m\u001b[0;34m\u001b[0m\u001b[0m\n",
      "\u001b[0;31mIndexError\u001b[0m: index 0 is out of bounds for axis 0 with size 0"
     ]
    }
   ],
   "source": []
  }
 ],
 "metadata": {
  "interpreter": {
   "hash": "34368ba4908ea1be08ba769dfb7764ab7f8ead2384ebb5604cb86637573696f7"
  },
  "kernelspec": {
   "display_name": "Python 3.8.12 64-bit (conda)",
   "language": "python",
   "name": "python3"
  },
  "language_info": {
   "codemirror_mode": {
    "name": "ipython",
    "version": 3
   },
   "file_extension": ".py",
   "mimetype": "text/x-python",
   "name": "python",
   "nbconvert_exporter": "python",
   "pygments_lexer": "ipython3",
   "version": "3.8.12"
  },
  "orig_nbformat": 4
 },
 "nbformat": 4,
 "nbformat_minor": 2
}
