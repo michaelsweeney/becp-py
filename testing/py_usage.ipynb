{
 "cells": [
  {
   "cell_type": "code",
   "execution_count": 1,
   "metadata": {},
   "outputs": [],
   "source": [
    "\n",
    "import sys\n",
    "import os\n",
    "import pandas as pd\n",
    "\n",
    "basepath = '/'.join(os.getcwd().split(\"/\")[:-1])\n",
    "if basepath not in sys.path:\n",
    "    sys.path.append(basepath)\n",
    "\n",
    "from becp import projections\n",
    "from becp.compliance import berdo_compliance, ll97_compliance\n",
    "import plotly.express as px\n",
    "%load_ext autoreload\n",
    "%autoreload 2\n",
    "\n",
    "\n"
   ]
  },
  {
   "cell_type": "code",
   "execution_count": 5,
   "metadata": {},
   "outputs": [
    {
     "data": {
      "text/plain": [
       "True"
      ]
     },
     "execution_count": 5,
     "metadata": {},
     "output_type": "execute_result"
    }
   ],
   "source": []
  },
  {
   "cell_type": "code",
   "execution_count": 5,
   "metadata": {},
   "outputs": [
    {
     "data": {
      "application/vnd.plotly.v1+json": {
       "config": {
        "plotlyServerURL": "https://plot.ly"
       },
       "data": [
        {
         "hovertemplate": "variable=(0.8, 'Natural Gas', 'HighRECost')<br>year=%{x}<br>value=%{y}<extra></extra>",
         "legendgroup": "(0.8, 'Natural Gas', 'HighRECost')",
         "line": {
          "color": "#636efa",
          "dash": "solid"
         },
         "marker": {
          "symbol": "circle"
         },
         "mode": "lines",
         "name": "(0.8, 'Natural Gas', 'HighRECost')",
         "orientation": "v",
         "showlegend": true,
         "type": "scatter",
         "x": [
          2020,
          2022,
          2024,
          2026,
          2028,
          2030,
          2032,
          2034,
          2036,
          2038,
          2040,
          2042,
          2044,
          2046,
          2048,
          2050
         ],
         "xaxis": "x",
         "y": [
          1.7071952990795936,
          1.778746725420998,
          1.4622692627570923,
          1.3384302556277377,
          1.1657436401306933,
          1.0976321862095484,
          1.0756163627198854,
          1.0467205943897024,
          1.127215949023783,
          1.1120800703746399,
          1.0529125447461702,
          1.0769923516879891,
          1.0694244123634178,
          1.0680484233953138,
          1.0687364178793657,
          1.0714883958155736
         ],
         "yaxis": "y"
        },
        {
         "hovertemplate": "variable=(2.5, 'Electricity', 'HighRECost')<br>year=%{x}<br>value=%{y}<extra></extra>",
         "legendgroup": "(2.5, 'Electricity', 'HighRECost')",
         "line": {
          "color": "#EF553B",
          "dash": "solid"
         },
         "marker": {
          "symbol": "circle"
         },
         "mode": "lines",
         "name": "(2.5, 'Electricity', 'HighRECost')",
         "orientation": "v",
         "showlegend": true,
         "type": "scatter",
         "x": [
          2020,
          2022,
          2024,
          2026,
          2028,
          2030,
          2032,
          2034,
          2036,
          2038,
          2040,
          2042,
          2044,
          2046,
          2048,
          2050
         ],
         "xaxis": "x",
         "y": [
          1.515025826205699,
          1.591666727850045,
          1.2526781244231322,
          1.120030410038688,
          0.9350605416470467,
          0.862104298735602,
          0.8385224828450343,
          0.8075713494886638,
          0.8937923638385527,
          0.8775798654137874,
          0.8142037352078859,
          0.8399963463381946,
          0.8318900971258122,
          0.8304162336326516,
          0.8311531653792318,
          0.8341008923655528
         ],
         "yaxis": "y"
        },
        {
         "hovertemplate": "variable=(0.8, 'Natural Gas', 'MidCase')<br>year=%{x}<br>value=%{y}<extra></extra>",
         "legendgroup": "(0.8, 'Natural Gas', 'MidCase')",
         "line": {
          "color": "#00cc96",
          "dash": "solid"
         },
         "marker": {
          "symbol": "circle"
         },
         "mode": "lines",
         "name": "(0.8, 'Natural Gas', 'MidCase')",
         "orientation": "v",
         "showlegend": true,
         "type": "scatter",
         "x": [
          2020,
          2022,
          2024,
          2026,
          2028,
          2030,
          2032,
          2034,
          2036,
          2038,
          2040,
          2042,
          2044,
          2046,
          2048,
          2050
         ],
         "xaxis": "x",
         "y": [
          1.6975633763028661,
          1.7925066151020377,
          1.4354374778790655,
          1.3012785534889315,
          1.173999573939317,
          1.0969441917254967,
          1.0735523792677295,
          1.015760842607364,
          1.1182720207311077,
          1.1320319104121468,
          1.0728643847836776,
          1.081808313076353,
          1.0886882579168728,
          1.0701124068474697,
          1.0749283682358335,
          1.057728506134534
         ],
         "yaxis": "y"
        },
        {
         "hovertemplate": "variable=(2.5, 'Electricity', 'MidCase')<br>year=%{x}<br>value=%{y}<extra></extra>",
         "legendgroup": "(2.5, 'Electricity', 'MidCase')",
         "line": {
          "color": "#ab63fa",
          "dash": "solid"
         },
         "marker": {
          "symbol": "circle"
         },
         "mode": "lines",
         "name": "(2.5, 'Electricity', 'MidCase')",
         "orientation": "v",
         "showlegend": true,
         "type": "scatter",
         "x": [
          2020,
          2022,
          2024,
          2026,
          2028,
          2030,
          2032,
          2034,
          2036,
          2038,
          2040,
          2042,
          2044,
          2046,
          2048,
          2050
         ],
         "xaxis": "x",
         "y": [
          1.504708781753576,
          1.60640536278165,
          1.2239377863065029,
          1.0802360957233548,
          0.9439037226060092,
          0.8613673669890219,
          0.8363116876052936,
          0.774409420892553,
          0.8842122511330095,
          0.8989508860646144,
          0.8355747558587132,
          0.8451548685642564,
          0.852524186030059,
          0.8326270288723923,
          0.8377855510984539,
          0.8193622574339477
         ],
         "yaxis": "y"
        },
        {
         "hovertemplate": "variable=(0.8, 'Natural Gas', 'LowRECost')<br>year=%{x}<br>value=%{y}<extra></extra>",
         "legendgroup": "(0.8, 'Natural Gas', 'LowRECost')",
         "line": {
          "color": "#FFA15A",
          "dash": "solid"
         },
         "marker": {
          "symbol": "circle"
         },
         "mode": "lines",
         "name": "(0.8, 'Natural Gas', 'LowRECost')",
         "orientation": "v",
         "showlegend": true,
         "type": "scatter",
         "x": [
          2020,
          2022,
          2024,
          2026,
          2028,
          2030,
          2032,
          2034,
          2036,
          2038,
          2040,
          2042,
          2044,
          2046,
          2048,
          2050
         ],
         "xaxis": "x",
         "y": [
          1.6659156300364755,
          1.7698027971283228,
          1.4209895937139743,
          1.2992145700367754,
          1.152671744933706,
          1.0419046330013388,
          1.032960704708663,
          0.944897410750011,
          0.9909930411814931,
          0.9854890853090774,
          0.9393934548775952,
          0.9545293335267387,
          0.9648492507875184,
          0.9572813114629465,
          0.9861770797931294,
          0.9903050466974411
         ],
         "yaxis": "y"
        },
        {
         "hovertemplate": "variable=(2.5, 'Electricity', 'LowRECost')<br>year=%{x}<br>value=%{y}<extra></extra>",
         "legendgroup": "(2.5, 'Electricity', 'LowRECost')",
         "line": {
          "color": "#19d3f3",
          "dash": "solid"
         },
         "marker": {
          "symbol": "circle"
         },
         "mode": "lines",
         "name": "(2.5, 'Electricity', 'LowRECost')",
         "orientation": "v",
         "showlegend": true,
         "type": "scatter",
         "x": [
          2020,
          2022,
          2024,
          2026,
          2028,
          2030,
          2032,
          2034,
          2036,
          2038,
          2040,
          2042,
          2044,
          2046,
          2048,
          2050
         ],
         "xaxis": "x",
         "y": [
          1.4708099214108847,
          1.5820866151445019,
          1.2084622196283177,
          1.0780253004836142,
          0.9210588384620217,
          0.8024128272626021,
          0.792832714557059,
          0.6985054509947876,
          0.7478798780156641,
          0.7419844240430222,
          0.6926099970221455,
          0.708822495446911,
          0.7198764716456146,
          0.7117702224332321,
          0.7427213557896024,
          0.747142946269084
         ],
         "yaxis": "y"
        }
       ],
       "layout": {
        "legend": {
         "title": {
          "text": "cases"
         },
         "tracegroupgap": 0
        },
        "margin": {
         "t": 60
        },
        "template": {
         "data": {
          "bar": [
           {
            "error_x": {
             "color": "#2a3f5f"
            },
            "error_y": {
             "color": "#2a3f5f"
            },
            "marker": {
             "line": {
              "color": "#E5ECF6",
              "width": 0.5
             },
             "pattern": {
              "fillmode": "overlay",
              "size": 10,
              "solidity": 0.2
             }
            },
            "type": "bar"
           }
          ],
          "barpolar": [
           {
            "marker": {
             "line": {
              "color": "#E5ECF6",
              "width": 0.5
             },
             "pattern": {
              "fillmode": "overlay",
              "size": 10,
              "solidity": 0.2
             }
            },
            "type": "barpolar"
           }
          ],
          "carpet": [
           {
            "aaxis": {
             "endlinecolor": "#2a3f5f",
             "gridcolor": "white",
             "linecolor": "white",
             "minorgridcolor": "white",
             "startlinecolor": "#2a3f5f"
            },
            "baxis": {
             "endlinecolor": "#2a3f5f",
             "gridcolor": "white",
             "linecolor": "white",
             "minorgridcolor": "white",
             "startlinecolor": "#2a3f5f"
            },
            "type": "carpet"
           }
          ],
          "choropleth": [
           {
            "colorbar": {
             "outlinewidth": 0,
             "ticks": ""
            },
            "type": "choropleth"
           }
          ],
          "contour": [
           {
            "colorbar": {
             "outlinewidth": 0,
             "ticks": ""
            },
            "colorscale": [
             [
              0,
              "#0d0887"
             ],
             [
              0.1111111111111111,
              "#46039f"
             ],
             [
              0.2222222222222222,
              "#7201a8"
             ],
             [
              0.3333333333333333,
              "#9c179e"
             ],
             [
              0.4444444444444444,
              "#bd3786"
             ],
             [
              0.5555555555555556,
              "#d8576b"
             ],
             [
              0.6666666666666666,
              "#ed7953"
             ],
             [
              0.7777777777777778,
              "#fb9f3a"
             ],
             [
              0.8888888888888888,
              "#fdca26"
             ],
             [
              1,
              "#f0f921"
             ]
            ],
            "type": "contour"
           }
          ],
          "contourcarpet": [
           {
            "colorbar": {
             "outlinewidth": 0,
             "ticks": ""
            },
            "type": "contourcarpet"
           }
          ],
          "heatmap": [
           {
            "colorbar": {
             "outlinewidth": 0,
             "ticks": ""
            },
            "colorscale": [
             [
              0,
              "#0d0887"
             ],
             [
              0.1111111111111111,
              "#46039f"
             ],
             [
              0.2222222222222222,
              "#7201a8"
             ],
             [
              0.3333333333333333,
              "#9c179e"
             ],
             [
              0.4444444444444444,
              "#bd3786"
             ],
             [
              0.5555555555555556,
              "#d8576b"
             ],
             [
              0.6666666666666666,
              "#ed7953"
             ],
             [
              0.7777777777777778,
              "#fb9f3a"
             ],
             [
              0.8888888888888888,
              "#fdca26"
             ],
             [
              1,
              "#f0f921"
             ]
            ],
            "type": "heatmap"
           }
          ],
          "heatmapgl": [
           {
            "colorbar": {
             "outlinewidth": 0,
             "ticks": ""
            },
            "colorscale": [
             [
              0,
              "#0d0887"
             ],
             [
              0.1111111111111111,
              "#46039f"
             ],
             [
              0.2222222222222222,
              "#7201a8"
             ],
             [
              0.3333333333333333,
              "#9c179e"
             ],
             [
              0.4444444444444444,
              "#bd3786"
             ],
             [
              0.5555555555555556,
              "#d8576b"
             ],
             [
              0.6666666666666666,
              "#ed7953"
             ],
             [
              0.7777777777777778,
              "#fb9f3a"
             ],
             [
              0.8888888888888888,
              "#fdca26"
             ],
             [
              1,
              "#f0f921"
             ]
            ],
            "type": "heatmapgl"
           }
          ],
          "histogram": [
           {
            "marker": {
             "pattern": {
              "fillmode": "overlay",
              "size": 10,
              "solidity": 0.2
             }
            },
            "type": "histogram"
           }
          ],
          "histogram2d": [
           {
            "colorbar": {
             "outlinewidth": 0,
             "ticks": ""
            },
            "colorscale": [
             [
              0,
              "#0d0887"
             ],
             [
              0.1111111111111111,
              "#46039f"
             ],
             [
              0.2222222222222222,
              "#7201a8"
             ],
             [
              0.3333333333333333,
              "#9c179e"
             ],
             [
              0.4444444444444444,
              "#bd3786"
             ],
             [
              0.5555555555555556,
              "#d8576b"
             ],
             [
              0.6666666666666666,
              "#ed7953"
             ],
             [
              0.7777777777777778,
              "#fb9f3a"
             ],
             [
              0.8888888888888888,
              "#fdca26"
             ],
             [
              1,
              "#f0f921"
             ]
            ],
            "type": "histogram2d"
           }
          ],
          "histogram2dcontour": [
           {
            "colorbar": {
             "outlinewidth": 0,
             "ticks": ""
            },
            "colorscale": [
             [
              0,
              "#0d0887"
             ],
             [
              0.1111111111111111,
              "#46039f"
             ],
             [
              0.2222222222222222,
              "#7201a8"
             ],
             [
              0.3333333333333333,
              "#9c179e"
             ],
             [
              0.4444444444444444,
              "#bd3786"
             ],
             [
              0.5555555555555556,
              "#d8576b"
             ],
             [
              0.6666666666666666,
              "#ed7953"
             ],
             [
              0.7777777777777778,
              "#fb9f3a"
             ],
             [
              0.8888888888888888,
              "#fdca26"
             ],
             [
              1,
              "#f0f921"
             ]
            ],
            "type": "histogram2dcontour"
           }
          ],
          "mesh3d": [
           {
            "colorbar": {
             "outlinewidth": 0,
             "ticks": ""
            },
            "type": "mesh3d"
           }
          ],
          "parcoords": [
           {
            "line": {
             "colorbar": {
              "outlinewidth": 0,
              "ticks": ""
             }
            },
            "type": "parcoords"
           }
          ],
          "pie": [
           {
            "automargin": true,
            "type": "pie"
           }
          ],
          "scatter": [
           {
            "marker": {
             "colorbar": {
              "outlinewidth": 0,
              "ticks": ""
             }
            },
            "type": "scatter"
           }
          ],
          "scatter3d": [
           {
            "line": {
             "colorbar": {
              "outlinewidth": 0,
              "ticks": ""
             }
            },
            "marker": {
             "colorbar": {
              "outlinewidth": 0,
              "ticks": ""
             }
            },
            "type": "scatter3d"
           }
          ],
          "scattercarpet": [
           {
            "marker": {
             "colorbar": {
              "outlinewidth": 0,
              "ticks": ""
             }
            },
            "type": "scattercarpet"
           }
          ],
          "scattergeo": [
           {
            "marker": {
             "colorbar": {
              "outlinewidth": 0,
              "ticks": ""
             }
            },
            "type": "scattergeo"
           }
          ],
          "scattergl": [
           {
            "marker": {
             "colorbar": {
              "outlinewidth": 0,
              "ticks": ""
             }
            },
            "type": "scattergl"
           }
          ],
          "scattermapbox": [
           {
            "marker": {
             "colorbar": {
              "outlinewidth": 0,
              "ticks": ""
             }
            },
            "type": "scattermapbox"
           }
          ],
          "scatterpolar": [
           {
            "marker": {
             "colorbar": {
              "outlinewidth": 0,
              "ticks": ""
             }
            },
            "type": "scatterpolar"
           }
          ],
          "scatterpolargl": [
           {
            "marker": {
             "colorbar": {
              "outlinewidth": 0,
              "ticks": ""
             }
            },
            "type": "scatterpolargl"
           }
          ],
          "scatterternary": [
           {
            "marker": {
             "colorbar": {
              "outlinewidth": 0,
              "ticks": ""
             }
            },
            "type": "scatterternary"
           }
          ],
          "surface": [
           {
            "colorbar": {
             "outlinewidth": 0,
             "ticks": ""
            },
            "colorscale": [
             [
              0,
              "#0d0887"
             ],
             [
              0.1111111111111111,
              "#46039f"
             ],
             [
              0.2222222222222222,
              "#7201a8"
             ],
             [
              0.3333333333333333,
              "#9c179e"
             ],
             [
              0.4444444444444444,
              "#bd3786"
             ],
             [
              0.5555555555555556,
              "#d8576b"
             ],
             [
              0.6666666666666666,
              "#ed7953"
             ],
             [
              0.7777777777777778,
              "#fb9f3a"
             ],
             [
              0.8888888888888888,
              "#fdca26"
             ],
             [
              1,
              "#f0f921"
             ]
            ],
            "type": "surface"
           }
          ],
          "table": [
           {
            "cells": {
             "fill": {
              "color": "#EBF0F8"
             },
             "line": {
              "color": "white"
             }
            },
            "header": {
             "fill": {
              "color": "#C8D4E3"
             },
             "line": {
              "color": "white"
             }
            },
            "type": "table"
           }
          ]
         },
         "layout": {
          "annotationdefaults": {
           "arrowcolor": "#2a3f5f",
           "arrowhead": 0,
           "arrowwidth": 1
          },
          "autotypenumbers": "strict",
          "coloraxis": {
           "colorbar": {
            "outlinewidth": 0,
            "ticks": ""
           }
          },
          "colorscale": {
           "diverging": [
            [
             0,
             "#8e0152"
            ],
            [
             0.1,
             "#c51b7d"
            ],
            [
             0.2,
             "#de77ae"
            ],
            [
             0.3,
             "#f1b6da"
            ],
            [
             0.4,
             "#fde0ef"
            ],
            [
             0.5,
             "#f7f7f7"
            ],
            [
             0.6,
             "#e6f5d0"
            ],
            [
             0.7,
             "#b8e186"
            ],
            [
             0.8,
             "#7fbc41"
            ],
            [
             0.9,
             "#4d9221"
            ],
            [
             1,
             "#276419"
            ]
           ],
           "sequential": [
            [
             0,
             "#0d0887"
            ],
            [
             0.1111111111111111,
             "#46039f"
            ],
            [
             0.2222222222222222,
             "#7201a8"
            ],
            [
             0.3333333333333333,
             "#9c179e"
            ],
            [
             0.4444444444444444,
             "#bd3786"
            ],
            [
             0.5555555555555556,
             "#d8576b"
            ],
            [
             0.6666666666666666,
             "#ed7953"
            ],
            [
             0.7777777777777778,
             "#fb9f3a"
            ],
            [
             0.8888888888888888,
             "#fdca26"
            ],
            [
             1,
             "#f0f921"
            ]
           ],
           "sequentialminus": [
            [
             0,
             "#0d0887"
            ],
            [
             0.1111111111111111,
             "#46039f"
            ],
            [
             0.2222222222222222,
             "#7201a8"
            ],
            [
             0.3333333333333333,
             "#9c179e"
            ],
            [
             0.4444444444444444,
             "#bd3786"
            ],
            [
             0.5555555555555556,
             "#d8576b"
            ],
            [
             0.6666666666666666,
             "#ed7953"
            ],
            [
             0.7777777777777778,
             "#fb9f3a"
            ],
            [
             0.8888888888888888,
             "#fdca26"
            ],
            [
             1,
             "#f0f921"
            ]
           ]
          },
          "colorway": [
           "#636efa",
           "#EF553B",
           "#00cc96",
           "#ab63fa",
           "#FFA15A",
           "#19d3f3",
           "#FF6692",
           "#B6E880",
           "#FF97FF",
           "#FECB52"
          ],
          "font": {
           "color": "#2a3f5f"
          },
          "geo": {
           "bgcolor": "white",
           "lakecolor": "white",
           "landcolor": "#E5ECF6",
           "showlakes": true,
           "showland": true,
           "subunitcolor": "white"
          },
          "hoverlabel": {
           "align": "left"
          },
          "hovermode": "closest",
          "mapbox": {
           "style": "light"
          },
          "paper_bgcolor": "white",
          "plot_bgcolor": "#E5ECF6",
          "polar": {
           "angularaxis": {
            "gridcolor": "white",
            "linecolor": "white",
            "ticks": ""
           },
           "bgcolor": "#E5ECF6",
           "radialaxis": {
            "gridcolor": "white",
            "linecolor": "white",
            "ticks": ""
           }
          },
          "scene": {
           "xaxis": {
            "backgroundcolor": "#E5ECF6",
            "gridcolor": "white",
            "gridwidth": 2,
            "linecolor": "white",
            "showbackground": true,
            "ticks": "",
            "zerolinecolor": "white"
           },
           "yaxis": {
            "backgroundcolor": "#E5ECF6",
            "gridcolor": "white",
            "gridwidth": 2,
            "linecolor": "white",
            "showbackground": true,
            "ticks": "",
            "zerolinecolor": "white"
           },
           "zaxis": {
            "backgroundcolor": "#E5ECF6",
            "gridcolor": "white",
            "gridwidth": 2,
            "linecolor": "white",
            "showbackground": true,
            "ticks": "",
            "zerolinecolor": "white"
           }
          },
          "shapedefaults": {
           "line": {
            "color": "#2a3f5f"
           }
          },
          "ternary": {
           "aaxis": {
            "gridcolor": "white",
            "linecolor": "white",
            "ticks": ""
           },
           "baxis": {
            "gridcolor": "white",
            "linecolor": "white",
            "ticks": ""
           },
           "bgcolor": "#E5ECF6",
           "caxis": {
            "gridcolor": "white",
            "linecolor": "white",
            "ticks": ""
           }
          },
          "title": {
           "x": 0.05
          },
          "xaxis": {
           "automargin": true,
           "gridcolor": "white",
           "linecolor": "white",
           "ticks": "",
           "title": {
            "standoff": 15
           },
           "zerolinecolor": "white",
           "zerolinewidth": 2
          },
          "yaxis": {
           "automargin": true,
           "gridcolor": "white",
           "linecolor": "white",
           "ticks": "",
           "title": {
            "standoff": 15
           },
           "zerolinecolor": "white",
           "zerolinewidth": 2
          }
         }
        },
        "title": {
         "text": "cambium projections using DOE reference buildings (STD2013, ApartmentHighRise)"
        },
        "xaxis": {
         "anchor": "y",
         "domain": [
          0,
          1
         ],
         "title": {
          "text": "year"
         }
        },
        "yaxis": {
         "anchor": "x",
         "domain": [
          0,
          1
         ],
         "title": {
          "text": "kg/co2/sf/yr"
         }
        }
       }
      }
     },
     "metadata": {},
     "output_type": "display_data"
    }
   ],
   "source": [
    "\n",
    "cases = [\n",
    "    (0.8, 'Natural Gas', 'HighRECost'),\n",
    "    (2.5, 'Electricity', 'HighRECost',),\n",
    "\n",
    "    (0.8, 'Natural Gas', 'MidCase'),\n",
    "    (2.5, 'Electricity', 'MidCase'),\n",
    "\n",
    "    (0.8, 'Natural Gas', 'LowRECost'),\n",
    "    (2.5, 'Electricity', 'LowRECost'),\n",
    "]\n",
    "\n",
    "\n",
    "proj = [\n",
    "    projections.get_projection_from_reference_buildings({\n",
    "    'state': 'NY',\n",
    "    'climate_zone': '4A',\n",
    "    'projection_case': case[2],\n",
    "    'design_areas': [\n",
    "        {\n",
    "            'type': 'SmallOffice',\n",
    "            'area': 200000,\n",
    "            'heating_fuel': case[1],\n",
    "            'dhw_fuel': case[1],\n",
    "            'heating_cop': case[0],\n",
    "            'dhw_cop': case[0],\n",
    "            'ashrae_standard': '90.1-2016'\n",
    "        },\n",
    "        {\n",
    "            'type': 'MediumOffice',\n",
    "            'area': 10000,\n",
    "            'heating_fuel': 'Natural Gas',\n",
    "            'dhw_fuel': 'Natural Gas',\n",
    "            'heating_cop': 0.8,\n",
    "            'dhw_cop': 0.8,\n",
    "            'ashrae_standard': '90.1-2007'\n",
    "        },\n",
    "    ]\n",
    "}) for case in cases]\n",
    "\n",
    "df = pd.concat(\n",
    "    [x['emissions_projection'].set_index('year')['kg_co2_per_sf']\n",
    "for x in proj]\n",
    ", axis=1).dropna()\n",
    "\n",
    "df.columns = [''.join(str(x)) for x in cases]\n",
    "\n",
    "plot = px.line(df)\n",
    "plot.update_layout({\n",
    "    'title': 'cambium projections using DOE reference buildings',\n",
    "    'yaxis': {\n",
    "        'title': 'kg/co2/sf/yr'\n",
    "    },\n",
    "    'legend': {\n",
    "        'title': 'cases'\n",
    "    }\n",
    "})\n",
    "\n",
    "plot.show()"
   ]
  },
  {
   "cell_type": "code",
   "execution_count": 3,
   "metadata": {},
   "outputs": [
    {
     "data": {
      "text/html": [
       "<div>\n",
       "<style scoped>\n",
       "    .dataframe tbody tr th:only-of-type {\n",
       "        vertical-align: middle;\n",
       "    }\n",
       "\n",
       "    .dataframe tbody tr th {\n",
       "        vertical-align: top;\n",
       "    }\n",
       "\n",
       "    .dataframe thead tr th {\n",
       "        text-align: left;\n",
       "    }\n",
       "\n",
       "    .dataframe thead tr:last-of-type th {\n",
       "        text-align: right;\n",
       "    }\n",
       "</style>\n",
       "<table border=\"1\" class=\"dataframe\">\n",
       "  <thead>\n",
       "    <tr>\n",
       "      <th></th>\n",
       "      <th colspan=\"13\" halign=\"left\">kbtu_per_sf_total</th>\n",
       "    </tr>\n",
       "    <tr>\n",
       "      <th>enduse</th>\n",
       "      <th>Cooling</th>\n",
       "      <th>Exterior Equipment</th>\n",
       "      <th>Exterior Lighting</th>\n",
       "      <th>Fans</th>\n",
       "      <th>Heat Recovery</th>\n",
       "      <th>Heat Rejection</th>\n",
       "      <th>Heating</th>\n",
       "      <th>Humidification</th>\n",
       "      <th>Interior Equipment</th>\n",
       "      <th>Interior Lighting</th>\n",
       "      <th>Pumps</th>\n",
       "      <th>Refrigeration</th>\n",
       "      <th>Water Systems</th>\n",
       "    </tr>\n",
       "    <tr>\n",
       "      <th>simname</th>\n",
       "      <th></th>\n",
       "      <th></th>\n",
       "      <th></th>\n",
       "      <th></th>\n",
       "      <th></th>\n",
       "      <th></th>\n",
       "      <th></th>\n",
       "      <th></th>\n",
       "      <th></th>\n",
       "      <th></th>\n",
       "      <th></th>\n",
       "      <th></th>\n",
       "      <th></th>\n",
       "    </tr>\n",
       "  </thead>\n",
       "  <tbody>\n",
       "    <tr>\n",
       "      <th>ASHRAE901_ApartmentHighRise_STD2019_NewYork</th>\n",
       "      <td>2.935099</td>\n",
       "      <td>0.162752</td>\n",
       "      <td>1.326711</td>\n",
       "      <td>2.285354</td>\n",
       "      <td>NaN</td>\n",
       "      <td>0.071659</td>\n",
       "      <td>6.837202</td>\n",
       "      <td>NaN</td>\n",
       "      <td>12.713091</td>\n",
       "      <td>2.315034</td>\n",
       "      <td>0.402120</td>\n",
       "      <td>NaN</td>\n",
       "      <td>12.746095</td>\n",
       "    </tr>\n",
       "    <tr>\n",
       "      <th>ASHRAE901_ApartmentMidRise_STD2019_NewYork</th>\n",
       "      <td>2.667473</td>\n",
       "      <td>NaN</td>\n",
       "      <td>0.729710</td>\n",
       "      <td>2.007752</td>\n",
       "      <td>NaN</td>\n",
       "      <td>NaN</td>\n",
       "      <td>3.684562</td>\n",
       "      <td>NaN</td>\n",
       "      <td>14.364806</td>\n",
       "      <td>2.345032</td>\n",
       "      <td>NaN</td>\n",
       "      <td>NaN</td>\n",
       "      <td>11.118192</td>\n",
       "    </tr>\n",
       "    <tr>\n",
       "      <th>ASHRAE901_Hospital_STD2019_NewYork</th>\n",
       "      <td>9.846508</td>\n",
       "      <td>10.123957</td>\n",
       "      <td>0.609042</td>\n",
       "      <td>11.154068</td>\n",
       "      <td>0.691893</td>\n",
       "      <td>0.836878</td>\n",
       "      <td>11.207852</td>\n",
       "      <td>3.517678</td>\n",
       "      <td>38.031079</td>\n",
       "      <td>12.869534</td>\n",
       "      <td>1.336147</td>\n",
       "      <td>0.429338</td>\n",
       "      <td>4.913679</td>\n",
       "    </tr>\n",
       "    <tr>\n",
       "      <th>ASHRAE901_HotelLarge_STD2019_NewYork</th>\n",
       "      <td>7.418890</td>\n",
       "      <td>7.548063</td>\n",
       "      <td>1.420511</td>\n",
       "      <td>5.110130</td>\n",
       "      <td>0.823552</td>\n",
       "      <td>NaN</td>\n",
       "      <td>2.615469</td>\n",
       "      <td>NaN</td>\n",
       "      <td>26.693559</td>\n",
       "      <td>4.087444</td>\n",
       "      <td>0.404277</td>\n",
       "      <td>0.378932</td>\n",
       "      <td>17.190832</td>\n",
       "    </tr>\n",
       "    <tr>\n",
       "      <th>ASHRAE901_HotelSmall_STD2019_NewYork</th>\n",
       "      <td>5.480165</td>\n",
       "      <td>NaN</td>\n",
       "      <td>0.973325</td>\n",
       "      <td>3.317845</td>\n",
       "      <td>NaN</td>\n",
       "      <td>NaN</td>\n",
       "      <td>3.431754</td>\n",
       "      <td>NaN</td>\n",
       "      <td>21.494150</td>\n",
       "      <td>4.031864</td>\n",
       "      <td>0.005616</td>\n",
       "      <td>NaN</td>\n",
       "      <td>13.170744</td>\n",
       "    </tr>\n",
       "    <tr>\n",
       "      <th>ASHRAE901_OfficeLarge_STD2019_NewYork</th>\n",
       "      <td>4.414624</td>\n",
       "      <td>3.719760</td>\n",
       "      <td>0.656137</td>\n",
       "      <td>3.711413</td>\n",
       "      <td>0.086014</td>\n",
       "      <td>1.481070</td>\n",
       "      <td>1.345701</td>\n",
       "      <td>2.177646</td>\n",
       "      <td>27.915578</td>\n",
       "      <td>4.911807</td>\n",
       "      <td>0.602423</td>\n",
       "      <td>NaN</td>\n",
       "      <td>1.098186</td>\n",
       "    </tr>\n",
       "    <tr>\n",
       "      <th>ASHRAE901_OfficeMedium_STD2019_NewYork</th>\n",
       "      <td>3.800584</td>\n",
       "      <td>0.206930</td>\n",
       "      <td>0.828332</td>\n",
       "      <td>1.129291</td>\n",
       "      <td>NaN</td>\n",
       "      <td>NaN</td>\n",
       "      <td>4.385811</td>\n",
       "      <td>NaN</td>\n",
       "      <td>13.264280</td>\n",
       "      <td>4.371358</td>\n",
       "      <td>0.002592</td>\n",
       "      <td>NaN</td>\n",
       "      <td>1.476059</td>\n",
       "    </tr>\n",
       "    <tr>\n",
       "      <th>ASHRAE901_OfficeSmall_STD2019_NewYork</th>\n",
       "      <td>2.591420</td>\n",
       "      <td>NaN</td>\n",
       "      <td>0.981721</td>\n",
       "      <td>2.638199</td>\n",
       "      <td>NaN</td>\n",
       "      <td>NaN</td>\n",
       "      <td>2.303581</td>\n",
       "      <td>NaN</td>\n",
       "      <td>8.323937</td>\n",
       "      <td>4.430848</td>\n",
       "      <td>NaN</td>\n",
       "      <td>NaN</td>\n",
       "      <td>3.103773</td>\n",
       "    </tr>\n",
       "    <tr>\n",
       "      <th>ASHRAE901_RestaurantFastFood_STD2019_NewYork</th>\n",
       "      <td>22.207620</td>\n",
       "      <td>NaN</td>\n",
       "      <td>3.363799</td>\n",
       "      <td>18.938021</td>\n",
       "      <td>NaN</td>\n",
       "      <td>NaN</td>\n",
       "      <td>81.885881</td>\n",
       "      <td>NaN</td>\n",
       "      <td>276.534788</td>\n",
       "      <td>9.639803</td>\n",
       "      <td>NaN</td>\n",
       "      <td>14.304463</td>\n",
       "      <td>71.190548</td>\n",
       "    </tr>\n",
       "    <tr>\n",
       "      <th>ASHRAE901_RestaurantSitDown_STD2019_NewYork</th>\n",
       "      <td>20.472937</td>\n",
       "      <td>NaN</td>\n",
       "      <td>3.239000</td>\n",
       "      <td>14.206433</td>\n",
       "      <td>NaN</td>\n",
       "      <td>NaN</td>\n",
       "      <td>60.855856</td>\n",
       "      <td>NaN</td>\n",
       "      <td>156.068432</td>\n",
       "      <td>8.709360</td>\n",
       "      <td>0.076875</td>\n",
       "      <td>6.307625</td>\n",
       "      <td>69.240996</td>\n",
       "    </tr>\n",
       "    <tr>\n",
       "      <th>ASHRAE901_RetailStandalone_STD2019_NewYork</th>\n",
       "      <td>5.169715</td>\n",
       "      <td>NaN</td>\n",
       "      <td>1.492506</td>\n",
       "      <td>5.249038</td>\n",
       "      <td>NaN</td>\n",
       "      <td>NaN</td>\n",
       "      <td>15.439662</td>\n",
       "      <td>NaN</td>\n",
       "      <td>7.462347</td>\n",
       "      <td>9.208357</td>\n",
       "      <td>NaN</td>\n",
       "      <td>NaN</td>\n",
       "      <td>3.619841</td>\n",
       "    </tr>\n",
       "    <tr>\n",
       "      <th>ASHRAE901_RetailStripmall_STD2019_NewYork</th>\n",
       "      <td>4.555750</td>\n",
       "      <td>NaN</td>\n",
       "      <td>2.527899</td>\n",
       "      <td>4.146879</td>\n",
       "      <td>NaN</td>\n",
       "      <td>NaN</td>\n",
       "      <td>19.148249</td>\n",
       "      <td>NaN</td>\n",
       "      <td>5.401605</td>\n",
       "      <td>16.792553</td>\n",
       "      <td>NaN</td>\n",
       "      <td>NaN</td>\n",
       "      <td>2.684851</td>\n",
       "    </tr>\n",
       "    <tr>\n",
       "      <th>ASHRAE901_SchoolPrimary_STD2019_NewYork</th>\n",
       "      <td>4.600656</td>\n",
       "      <td>0.218918</td>\n",
       "      <td>0.330026</td>\n",
       "      <td>3.531131</td>\n",
       "      <td>0.877469</td>\n",
       "      <td>NaN</td>\n",
       "      <td>3.794003</td>\n",
       "      <td>NaN</td>\n",
       "      <td>19.050213</td>\n",
       "      <td>3.688138</td>\n",
       "      <td>0.031327</td>\n",
       "      <td>0.582034</td>\n",
       "      <td>1.881187</td>\n",
       "    </tr>\n",
       "    <tr>\n",
       "      <th>ASHRAE901_SchoolSecondary_STD2019_NewYork</th>\n",
       "      <td>5.850751</td>\n",
       "      <td>0.132312</td>\n",
       "      <td>0.308676</td>\n",
       "      <td>3.361854</td>\n",
       "      <td>1.168268</td>\n",
       "      <td>NaN</td>\n",
       "      <td>2.368656</td>\n",
       "      <td>NaN</td>\n",
       "      <td>13.113500</td>\n",
       "      <td>3.709627</td>\n",
       "      <td>0.115080</td>\n",
       "      <td>0.427003</td>\n",
       "      <td>2.939547</td>\n",
       "    </tr>\n",
       "    <tr>\n",
       "      <th>ASHRAE901_Warehouse_STD2019_NewYork</th>\n",
       "      <td>0.328584</td>\n",
       "      <td>NaN</td>\n",
       "      <td>1.042921</td>\n",
       "      <td>0.737003</td>\n",
       "      <td>NaN</td>\n",
       "      <td>NaN</td>\n",
       "      <td>10.675101</td>\n",
       "      <td>NaN</td>\n",
       "      <td>2.487307</td>\n",
       "      <td>3.013802</td>\n",
       "      <td>NaN</td>\n",
       "      <td>NaN</td>\n",
       "      <td>0.463583</td>\n",
       "    </tr>\n",
       "  </tbody>\n",
       "</table>\n",
       "</div>"
      ],
      "text/plain": [
       "                                             kbtu_per_sf_total  \\\n",
       "enduse                                                 Cooling   \n",
       "simname                                                          \n",
       "ASHRAE901_ApartmentHighRise_STD2019_NewYork           2.935099   \n",
       "ASHRAE901_ApartmentMidRise_STD2019_NewYork            2.667473   \n",
       "ASHRAE901_Hospital_STD2019_NewYork                    9.846508   \n",
       "ASHRAE901_HotelLarge_STD2019_NewYork                  7.418890   \n",
       "ASHRAE901_HotelSmall_STD2019_NewYork                  5.480165   \n",
       "ASHRAE901_OfficeLarge_STD2019_NewYork                 4.414624   \n",
       "ASHRAE901_OfficeMedium_STD2019_NewYork                3.800584   \n",
       "ASHRAE901_OfficeSmall_STD2019_NewYork                 2.591420   \n",
       "ASHRAE901_RestaurantFastFood_STD2019_NewYork         22.207620   \n",
       "ASHRAE901_RestaurantSitDown_STD2019_NewYork          20.472937   \n",
       "ASHRAE901_RetailStandalone_STD2019_NewYork            5.169715   \n",
       "ASHRAE901_RetailStripmall_STD2019_NewYork             4.555750   \n",
       "ASHRAE901_SchoolPrimary_STD2019_NewYork               4.600656   \n",
       "ASHRAE901_SchoolSecondary_STD2019_NewYork             5.850751   \n",
       "ASHRAE901_Warehouse_STD2019_NewYork                   0.328584   \n",
       "\n",
       "                                                                 \\\n",
       "enduse                                       Exterior Equipment   \n",
       "simname                                                           \n",
       "ASHRAE901_ApartmentHighRise_STD2019_NewYork            0.162752   \n",
       "ASHRAE901_ApartmentMidRise_STD2019_NewYork                  NaN   \n",
       "ASHRAE901_Hospital_STD2019_NewYork                    10.123957   \n",
       "ASHRAE901_HotelLarge_STD2019_NewYork                   7.548063   \n",
       "ASHRAE901_HotelSmall_STD2019_NewYork                        NaN   \n",
       "ASHRAE901_OfficeLarge_STD2019_NewYork                  3.719760   \n",
       "ASHRAE901_OfficeMedium_STD2019_NewYork                 0.206930   \n",
       "ASHRAE901_OfficeSmall_STD2019_NewYork                       NaN   \n",
       "ASHRAE901_RestaurantFastFood_STD2019_NewYork                NaN   \n",
       "ASHRAE901_RestaurantSitDown_STD2019_NewYork                 NaN   \n",
       "ASHRAE901_RetailStandalone_STD2019_NewYork                  NaN   \n",
       "ASHRAE901_RetailStripmall_STD2019_NewYork                   NaN   \n",
       "ASHRAE901_SchoolPrimary_STD2019_NewYork                0.218918   \n",
       "ASHRAE901_SchoolSecondary_STD2019_NewYork              0.132312   \n",
       "ASHRAE901_Warehouse_STD2019_NewYork                         NaN   \n",
       "\n",
       "                                                                           \\\n",
       "enduse                                       Exterior Lighting       Fans   \n",
       "simname                                                                     \n",
       "ASHRAE901_ApartmentHighRise_STD2019_NewYork           1.326711   2.285354   \n",
       "ASHRAE901_ApartmentMidRise_STD2019_NewYork            0.729710   2.007752   \n",
       "ASHRAE901_Hospital_STD2019_NewYork                    0.609042  11.154068   \n",
       "ASHRAE901_HotelLarge_STD2019_NewYork                  1.420511   5.110130   \n",
       "ASHRAE901_HotelSmall_STD2019_NewYork                  0.973325   3.317845   \n",
       "ASHRAE901_OfficeLarge_STD2019_NewYork                 0.656137   3.711413   \n",
       "ASHRAE901_OfficeMedium_STD2019_NewYork                0.828332   1.129291   \n",
       "ASHRAE901_OfficeSmall_STD2019_NewYork                 0.981721   2.638199   \n",
       "ASHRAE901_RestaurantFastFood_STD2019_NewYork          3.363799  18.938021   \n",
       "ASHRAE901_RestaurantSitDown_STD2019_NewYork           3.239000  14.206433   \n",
       "ASHRAE901_RetailStandalone_STD2019_NewYork            1.492506   5.249038   \n",
       "ASHRAE901_RetailStripmall_STD2019_NewYork             2.527899   4.146879   \n",
       "ASHRAE901_SchoolPrimary_STD2019_NewYork               0.330026   3.531131   \n",
       "ASHRAE901_SchoolSecondary_STD2019_NewYork             0.308676   3.361854   \n",
       "ASHRAE901_Warehouse_STD2019_NewYork                   1.042921   0.737003   \n",
       "\n",
       "                                                                           \\\n",
       "enduse                                       Heat Recovery Heat Rejection   \n",
       "simname                                                                     \n",
       "ASHRAE901_ApartmentHighRise_STD2019_NewYork            NaN       0.071659   \n",
       "ASHRAE901_ApartmentMidRise_STD2019_NewYork             NaN            NaN   \n",
       "ASHRAE901_Hospital_STD2019_NewYork                0.691893       0.836878   \n",
       "ASHRAE901_HotelLarge_STD2019_NewYork              0.823552            NaN   \n",
       "ASHRAE901_HotelSmall_STD2019_NewYork                   NaN            NaN   \n",
       "ASHRAE901_OfficeLarge_STD2019_NewYork             0.086014       1.481070   \n",
       "ASHRAE901_OfficeMedium_STD2019_NewYork                 NaN            NaN   \n",
       "ASHRAE901_OfficeSmall_STD2019_NewYork                  NaN            NaN   \n",
       "ASHRAE901_RestaurantFastFood_STD2019_NewYork           NaN            NaN   \n",
       "ASHRAE901_RestaurantSitDown_STD2019_NewYork            NaN            NaN   \n",
       "ASHRAE901_RetailStandalone_STD2019_NewYork             NaN            NaN   \n",
       "ASHRAE901_RetailStripmall_STD2019_NewYork              NaN            NaN   \n",
       "ASHRAE901_SchoolPrimary_STD2019_NewYork           0.877469            NaN   \n",
       "ASHRAE901_SchoolSecondary_STD2019_NewYork         1.168268            NaN   \n",
       "ASHRAE901_Warehouse_STD2019_NewYork                    NaN            NaN   \n",
       "\n",
       "                                                                        \\\n",
       "enduse                                          Heating Humidification   \n",
       "simname                                                                  \n",
       "ASHRAE901_ApartmentHighRise_STD2019_NewYork    6.837202            NaN   \n",
       "ASHRAE901_ApartmentMidRise_STD2019_NewYork     3.684562            NaN   \n",
       "ASHRAE901_Hospital_STD2019_NewYork            11.207852       3.517678   \n",
       "ASHRAE901_HotelLarge_STD2019_NewYork           2.615469            NaN   \n",
       "ASHRAE901_HotelSmall_STD2019_NewYork           3.431754            NaN   \n",
       "ASHRAE901_OfficeLarge_STD2019_NewYork          1.345701       2.177646   \n",
       "ASHRAE901_OfficeMedium_STD2019_NewYork         4.385811            NaN   \n",
       "ASHRAE901_OfficeSmall_STD2019_NewYork          2.303581            NaN   \n",
       "ASHRAE901_RestaurantFastFood_STD2019_NewYork  81.885881            NaN   \n",
       "ASHRAE901_RestaurantSitDown_STD2019_NewYork   60.855856            NaN   \n",
       "ASHRAE901_RetailStandalone_STD2019_NewYork    15.439662            NaN   \n",
       "ASHRAE901_RetailStripmall_STD2019_NewYork     19.148249            NaN   \n",
       "ASHRAE901_SchoolPrimary_STD2019_NewYork        3.794003            NaN   \n",
       "ASHRAE901_SchoolSecondary_STD2019_NewYork      2.368656            NaN   \n",
       "ASHRAE901_Warehouse_STD2019_NewYork           10.675101            NaN   \n",
       "\n",
       "                                                                 \\\n",
       "enduse                                       Interior Equipment   \n",
       "simname                                                           \n",
       "ASHRAE901_ApartmentHighRise_STD2019_NewYork           12.713091   \n",
       "ASHRAE901_ApartmentMidRise_STD2019_NewYork            14.364806   \n",
       "ASHRAE901_Hospital_STD2019_NewYork                    38.031079   \n",
       "ASHRAE901_HotelLarge_STD2019_NewYork                  26.693559   \n",
       "ASHRAE901_HotelSmall_STD2019_NewYork                  21.494150   \n",
       "ASHRAE901_OfficeLarge_STD2019_NewYork                 27.915578   \n",
       "ASHRAE901_OfficeMedium_STD2019_NewYork                13.264280   \n",
       "ASHRAE901_OfficeSmall_STD2019_NewYork                  8.323937   \n",
       "ASHRAE901_RestaurantFastFood_STD2019_NewYork         276.534788   \n",
       "ASHRAE901_RestaurantSitDown_STD2019_NewYork          156.068432   \n",
       "ASHRAE901_RetailStandalone_STD2019_NewYork             7.462347   \n",
       "ASHRAE901_RetailStripmall_STD2019_NewYork              5.401605   \n",
       "ASHRAE901_SchoolPrimary_STD2019_NewYork               19.050213   \n",
       "ASHRAE901_SchoolSecondary_STD2019_NewYork             13.113500   \n",
       "ASHRAE901_Warehouse_STD2019_NewYork                    2.487307   \n",
       "\n",
       "                                                                          \\\n",
       "enduse                                       Interior Lighting     Pumps   \n",
       "simname                                                                    \n",
       "ASHRAE901_ApartmentHighRise_STD2019_NewYork           2.315034  0.402120   \n",
       "ASHRAE901_ApartmentMidRise_STD2019_NewYork            2.345032       NaN   \n",
       "ASHRAE901_Hospital_STD2019_NewYork                   12.869534  1.336147   \n",
       "ASHRAE901_HotelLarge_STD2019_NewYork                  4.087444  0.404277   \n",
       "ASHRAE901_HotelSmall_STD2019_NewYork                  4.031864  0.005616   \n",
       "ASHRAE901_OfficeLarge_STD2019_NewYork                 4.911807  0.602423   \n",
       "ASHRAE901_OfficeMedium_STD2019_NewYork                4.371358  0.002592   \n",
       "ASHRAE901_OfficeSmall_STD2019_NewYork                 4.430848       NaN   \n",
       "ASHRAE901_RestaurantFastFood_STD2019_NewYork          9.639803       NaN   \n",
       "ASHRAE901_RestaurantSitDown_STD2019_NewYork           8.709360  0.076875   \n",
       "ASHRAE901_RetailStandalone_STD2019_NewYork            9.208357       NaN   \n",
       "ASHRAE901_RetailStripmall_STD2019_NewYork            16.792553       NaN   \n",
       "ASHRAE901_SchoolPrimary_STD2019_NewYork               3.688138  0.031327   \n",
       "ASHRAE901_SchoolSecondary_STD2019_NewYork             3.709627  0.115080   \n",
       "ASHRAE901_Warehouse_STD2019_NewYork                   3.013802       NaN   \n",
       "\n",
       "                                                                          \n",
       "enduse                                       Refrigeration Water Systems  \n",
       "simname                                                                   \n",
       "ASHRAE901_ApartmentHighRise_STD2019_NewYork            NaN     12.746095  \n",
       "ASHRAE901_ApartmentMidRise_STD2019_NewYork             NaN     11.118192  \n",
       "ASHRAE901_Hospital_STD2019_NewYork                0.429338      4.913679  \n",
       "ASHRAE901_HotelLarge_STD2019_NewYork              0.378932     17.190832  \n",
       "ASHRAE901_HotelSmall_STD2019_NewYork                   NaN     13.170744  \n",
       "ASHRAE901_OfficeLarge_STD2019_NewYork                  NaN      1.098186  \n",
       "ASHRAE901_OfficeMedium_STD2019_NewYork                 NaN      1.476059  \n",
       "ASHRAE901_OfficeSmall_STD2019_NewYork                  NaN      3.103773  \n",
       "ASHRAE901_RestaurantFastFood_STD2019_NewYork     14.304463     71.190548  \n",
       "ASHRAE901_RestaurantSitDown_STD2019_NewYork       6.307625     69.240996  \n",
       "ASHRAE901_RetailStandalone_STD2019_NewYork             NaN      3.619841  \n",
       "ASHRAE901_RetailStripmall_STD2019_NewYork              NaN      2.684851  \n",
       "ASHRAE901_SchoolPrimary_STD2019_NewYork           0.582034      1.881187  \n",
       "ASHRAE901_SchoolSecondary_STD2019_NewYork         0.427003      2.939547  \n",
       "ASHRAE901_Warehouse_STD2019_NewYork                    NaN      0.463583  "
      ]
     },
     "execution_count": 3,
     "metadata": {},
     "output_type": "execute_result"
    }
   ],
   "source": [
    "df = projections.get_reference_buildings_data()['enduses']\n",
    "\n",
    "# df.groupby(['enduse', 'subcategory']).mean()\n",
    "\n",
    "p = df.loc[df.simname.str.contains(\"STD2019_NewYork\")].groupby(['simname', 'enduse']).sum()['kbtu_per_sf_total'].reset_index()\n",
    "pd.pivot_table(p, index='simname', columns='enduse')"
   ]
  },
  {
   "cell_type": "code",
   "execution_count": 4,
   "metadata": {},
   "outputs": [
    {
     "data": {
      "text/plain": [
       "[{'year': 2018.0,\n",
       "  'elec_kg_per_kbtu': 0.05254982415005862,\n",
       "  'kg_co2_absolute': 390434.78550571285,\n",
       "  'kg_co2_per_sf': 1.8592132643129182},\n",
       " {'year': 2020.0,\n",
       "  'elec_kg_per_kbtu': 0.05046893317702227,\n",
       "  'kg_co2_absolute': 375151.68489971943,\n",
       "  'kg_co2_per_sf': 1.7864365947605687},\n",
       " {'year': 2022.0,\n",
       "  'elec_kg_per_kbtu': 0.05451348182883939,\n",
       "  'kg_co2_absolute': 404856.866359256,\n",
       "  'kg_co2_per_sf': 1.927889839805981},\n",
       " {'year': 2024.0,\n",
       "  'elec_kg_per_kbtu': 0.03930246189917937,\n",
       "  'kg_co2_absolute': 293139.55347882496,\n",
       "  'kg_co2_per_sf': 1.3959026356134523},\n",
       " {'year': 2026.0,\n",
       "  'elec_kg_per_kbtu': 0.0335873388042204,\n",
       "  'kg_co2_absolute': 251164.84054687116,\n",
       "  'kg_co2_per_sf': 1.1960230502231959},\n",
       " {'year': 2028.0,\n",
       "  'elec_kg_per_kbtu': 0.02816529894490035,\n",
       "  'kg_co2_absolute': 211342.67699604316,\n",
       "  'kg_co2_per_sf': 1.0063936999811578},\n",
       " {'year': 2030.0,\n",
       "  'elec_kg_per_kbtu': 0.024882766705744432,\n",
       "  'kg_co2_absolute': 187234.12392743374,\n",
       "  'kg_co2_per_sf': 0.8915910663211131},\n",
       " {'year': 2032.0,\n",
       "  'elec_kg_per_kbtu': 0.0238862837045721,\n",
       "  'kg_co2_absolute': 179915.45603160592,\n",
       "  'kg_co2_per_sf': 0.8567402668171711},\n",
       " {'year': 2034.0,\n",
       "  'elec_kg_per_kbtu': 0.02142438452520516,\n",
       "  'kg_co2_absolute': 161834.04123014887,\n",
       "  'kg_co2_per_sf': 0.7706382915721375},\n",
       " {'year': 2036.0,\n",
       "  'elec_kg_per_kbtu': 0.02579132473622509,\n",
       "  'kg_co2_absolute': 193907.02700892385,\n",
       "  'kg_co2_per_sf': 0.9233667952805897},\n",
       " {'year': 2038.0,\n",
       "  'elec_kg_per_kbtu': 0.02637749120750293,\n",
       "  'kg_co2_absolute': 198212.12577117555,\n",
       "  'kg_co2_per_sf': 0.9438672655770264},\n",
       " {'year': 2040.0,\n",
       "  'elec_kg_per_kbtu': 0.023856975381008207,\n",
       "  'kg_co2_absolute': 179700.20109349332,\n",
       "  'kg_co2_per_sf': 0.8557152433023492},\n",
       " {'year': 2042.0,\n",
       "  'elec_kg_per_kbtu': 0.024237983587338804,\n",
       "  'kg_co2_absolute': 182498.5152889569,\n",
       "  'kg_co2_per_sf': 0.8690405489950328},\n",
       " {'year': 2044.0,\n",
       "  'elec_kg_per_kbtu': 0.024531066822977725,\n",
       "  'kg_co2_absolute': 184651.06467008273,\n",
       "  'kg_co2_per_sf': 0.8792907841432511},\n",
       " {'year': 2046.0,\n",
       "  'elec_kg_per_kbtu': 0.023739742086752638,\n",
       "  'kg_co2_absolute': 178839.18134104297,\n",
       "  'kg_co2_per_sf': 0.8516151492430618},\n",
       " {'year': 2048.0,\n",
       "  'elec_kg_per_kbtu': 0.023944900351699883,\n",
       "  'kg_co2_absolute': 180345.9659078311,\n",
       "  'kg_co2_per_sf': 0.8587903138468147},\n",
       " {'year': 2050.0,\n",
       "  'elec_kg_per_kbtu': 0.02321219226260258,\n",
       "  'kg_co2_absolute': 174964.5924550165,\n",
       "  'kg_co2_per_sf': 0.8331647259762691}]"
      ]
     },
     "execution_count": 4,
     "metadata": {},
     "output_type": "execute_result"
    }
   ],
   "source": [
    "argdict = {\n",
    "    'state': 'NY',\n",
    "    'climate_zone': '4A',\n",
    "    'projection_case': 'MidCase',\n",
    "    'design_areas': [\n",
    "        {\n",
    "            'type': 'ApartmentHighRise',\n",
    "            'area': 200000,\n",
    "            'heating_fuel': 'Electricity',\n",
    "            'dhw_fuel': 'Electricity',\n",
    "            'heating_cop': 2.5,\n",
    "            'dhw_cop': 2.5,\n",
    "            'ashrae_standard': 'STD2013'\n",
    "        },\n",
    "        {\n",
    "            'type': 'OfficeSmall',\n",
    "            'area': 10000,\n",
    "            'heating_fuel': 'Natural Gas',\n",
    "            'dhw_fuel': 'Natural Gas',\n",
    "            'heating_cop': 0.8,\n",
    "            'dhw_cop': 0.8,\n",
    "            'ashrae_standard': 'STD2013'\n",
    "        }],\n",
    "\n",
    "}\n",
    "\n",
    "end = projections.get_projection_from_reference_buildings(\n",
    "    argdict, as_dict=True\n",
    ")\n",
    "\n",
    "list(end.values())[0]"
   ]
  }
 ],
 "metadata": {
  "interpreter": {
   "hash": "34368ba4908ea1be08ba769dfb7764ab7f8ead2384ebb5604cb86637573696f7"
  },
  "kernelspec": {
   "display_name": "Python 3.8.12 64-bit (conda)",
   "language": "python",
   "name": "python3"
  },
  "language_info": {
   "codemirror_mode": {
    "name": "ipython",
    "version": 3
   },
   "file_extension": ".py",
   "mimetype": "text/x-python",
   "name": "python",
   "nbconvert_exporter": "python",
   "pygments_lexer": "ipython3",
   "version": "3.8.5"
  },
  "orig_nbformat": 4
 },
 "nbformat": 4,
 "nbformat_minor": 2
}
