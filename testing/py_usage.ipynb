{
 "cells": [
  {
   "cell_type": "code",
   "execution_count": 1,
   "metadata": {},
   "outputs": [],
   "source": [
    "\n",
    "import sys\n",
    "import os\n",
    "import pandas as pd\n",
    "import plotly.express as px\n",
    "\n",
    "basepath = '/'.join(os.getcwd().split(\"/\")[:-1])\n",
    "if basepath not in sys.path:\n",
    "    sys.path.append(basepath)\n",
    "\n",
    "from becp import projections\n",
    "\n",
    "%load_ext autoreload\n",
    "%autoreload 2\n",
    "\n",
    "\n"
   ]
  },
  {
   "cell_type": "code",
   "execution_count": 2,
   "metadata": {},
   "outputs": [
    {
     "data": {
      "application/vnd.plotly.v1+json": {
       "config": {
        "plotlyServerURL": "https://plot.ly"
       },
       "data": [
        {
         "hovertemplate": "variable=(0.8, 'Natural Gas', 'HighRECost')<br>year=%{x}<br>value=%{y}<extra></extra>",
         "legendgroup": "(0.8, 'Natural Gas', 'HighRECost')",
         "line": {
          "color": "#636efa",
          "dash": "solid"
         },
         "marker": {
          "symbol": "circle"
         },
         "mode": "lines",
         "name": "(0.8, 'Natural Gas', 'HighRECost')",
         "orientation": "v",
         "showlegend": true,
         "type": "scatter",
         "x": [
          2020,
          2022,
          2024,
          2026,
          2028,
          2030,
          2032,
          2034,
          2036,
          2038,
          2040,
          2042,
          2044,
          2046,
          2048,
          2050
         ],
         "xaxis": "x",
         "y": [
          2.683079441391093,
          2.7663149810955443,
          2.398157786248933,
          2.2540962752219977,
          2.0532105015122166,
          1.9739766704474022,
          1.9483657351537247,
          1.9147513825807732,
          2.0083913647482814,
          1.9907838467338776,
          1.9219544581321202,
          1.9499664186095798,
          1.9411626596023783,
          1.9395619761465235,
          1.9403623178744505,
          1.9435636847861604
         ],
         "yaxis": "y"
        },
        {
         "hovertemplate": "variable=(2.5, 'Electricity', 'HighRECost')<br>year=%{x}<br>value=%{y}<extra></extra>",
         "legendgroup": "(2.5, 'Electricity', 'HighRECost')",
         "line": {
          "color": "#EF553B",
          "dash": "solid"
         },
         "marker": {
          "symbol": "circle"
         },
         "mode": "lines",
         "name": "(2.5, 'Electricity', 'HighRECost')",
         "orientation": "v",
         "showlegend": true,
         "type": "scatter",
         "x": [
          2020,
          2022,
          2024,
          2026,
          2028,
          2030,
          2032,
          2034,
          2036,
          2038,
          2040,
          2042,
          2044,
          2046,
          2048,
          2050
         ],
         "xaxis": "x",
         "y": [
          1.800786923968074,
          1.9073893695095443,
          1.4358785526915034,
          1.2513743200235745,
          0.9940934178032959,
          0.8926160898359349,
          0.8598153373616365,
          0.8167643497391196,
          0.9366921009732735,
          0.9141415836471931,
          0.8259895613725161,
          0.8618653843912801,
          0.8505901257282401,
          0.8485400786985964,
          0.849565102213418,
          0.8536651962727053
         ],
         "yaxis": "y"
        },
        {
         "hovertemplate": "variable=(0.8, 'Natural Gas', 'MidCase')<br>year=%{x}<br>value=%{y}<extra></extra>",
         "legendgroup": "(0.8, 'Natural Gas', 'MidCase')",
         "line": {
          "color": "#00cc96",
          "dash": "solid"
         },
         "marker": {
          "symbol": "circle"
         },
         "mode": "lines",
         "name": "(0.8, 'Natural Gas', 'MidCase')",
         "orientation": "v",
         "showlegend": true,
         "type": "scatter",
         "x": [
          2020,
          2022,
          2024,
          2026,
          2028,
          2030,
          2032,
          2034,
          2036,
          2038,
          2040,
          2042,
          2044,
          2046,
          2048,
          2050
         ],
         "xaxis": "x",
         "y": [
          2.6718746572001093,
          2.7823218156540928,
          2.3669444588597637,
          2.2108778219139174,
          2.0628146022473457,
          1.973176328719475,
          1.9459647099699429,
          1.8787360048240398,
          1.9979869222852247,
          2.013993756843773,
          1.9451643682420154,
          1.9555688107050717,
          1.963572227984346,
          1.9419630013303055,
          1.9475653934257975,
          1.9275568502276121
         ],
         "yaxis": "y"
        },
        {
         "hovertemplate": "variable=(2.5, 'Electricity', 'MidCase')<br>year=%{x}<br>value=%{y}<extra></extra>",
         "legendgroup": "(2.5, 'Electricity', 'MidCase')",
         "line": {
          "color": "#ab63fa",
          "dash": "solid"
         },
         "marker": {
          "symbol": "circle"
         },
         "mode": "lines",
         "name": "(2.5, 'Electricity', 'MidCase')",
         "orientation": "v",
         "showlegend": true,
         "type": "scatter",
         "x": [
          2020,
          2022,
          2024,
          2026,
          2028,
          2030,
          2032,
          2034,
          2036,
          2038,
          2040,
          2042,
          2044,
          2046,
          2048,
          2050
         ],
         "xaxis": "x",
         "y": [
          1.7864365947605687,
          1.927889839805981,
          1.3959026356134523,
          1.1960230502231959,
          1.0063936999811578,
          0.8915910663211131,
          0.8567402668171711,
          0.7706382915721375,
          0.9233667952805897,
          0.9438672655770264,
          0.8557152433023492,
          0.8690405489950328,
          0.8792907841432511,
          0.8516151492430618,
          0.8587903138468147,
          0.8331647259762691
         ],
         "yaxis": "y"
        },
        {
         "hovertemplate": "variable=(0.8, 'Natural Gas', 'LowRECost')<br>year=%{x}<br>value=%{y}<extra></extra>",
         "legendgroup": "(0.8, 'Natural Gas', 'LowRECost')",
         "line": {
          "color": "#FFA15A",
          "dash": "solid"
         },
         "marker": {
          "symbol": "circle"
         },
         "mode": "lines",
         "name": "(0.8, 'Natural Gas', 'LowRECost')",
         "orientation": "v",
         "showlegend": true,
         "type": "scatter",
         "x": [
          2020,
          2022,
          2024,
          2026,
          2028,
          2030,
          2032,
          2034,
          2036,
          2038,
          2040,
          2042,
          2044,
          2046,
          2048,
          2050
         ],
         "xaxis": "x",
         "y": [
          2.6350589377154487,
          2.755910538632488,
          2.3501372825732876,
          2.2084767967301353,
          2.0380040086815954,
          1.9091489904852814,
          1.898744548022225,
          1.796300806847516,
          1.8499237026186528,
          1.8435209687952334,
          1.7898980730240965,
          1.8075055910384994,
          1.819510716957411,
          1.8107069579502093,
          1.8443213105231606,
          1.8491233608907252
         ],
         "yaxis": "y"
        },
        {
         "hovertemplate": "variable=(2.5, 'Electricity', 'LowRECost')<br>year=%{x}<br>value=%{y}<extra></extra>",
         "legendgroup": "(2.5, 'Electricity', 'LowRECost')",
         "line": {
          "color": "#19d3f3",
          "dash": "solid"
         },
         "marker": {
          "symbol": "circle"
         },
         "mode": "lines",
         "name": "(2.5, 'Electricity', 'LowRECost')",
         "orientation": "v",
         "showlegend": true,
         "type": "scatter",
         "x": [
          2020,
          2022,
          2024,
          2026,
          2028,
          2030,
          2032,
          2034,
          2036,
          2038,
          2040,
          2042,
          2044,
          2046,
          2048,
          2050
         ],
         "xaxis": "x",
         "y": [
          1.7392855130787648,
          1.8940640638168604,
          1.374377141802194,
          1.1929479796787303,
          0.9746179710216812,
          0.8095891851353669,
          0.796263879442683,
          0.6650608695454893,
          0.7337374450385517,
          0.7255372569199771,
          0.6568606814269146,
          0.6794111987529947,
          0.6947865514753223,
          0.683511292812282,
          0.7265622804347989,
          0.7327124215237297
         ],
         "yaxis": "y"
        }
       ],
       "layout": {
        "legend": {
         "title": {
          "text": "cases"
         },
         "tracegroupgap": 0
        },
        "margin": {
         "t": 60
        },
        "template": {
         "data": {
          "bar": [
           {
            "error_x": {
             "color": "#2a3f5f"
            },
            "error_y": {
             "color": "#2a3f5f"
            },
            "marker": {
             "line": {
              "color": "#E5ECF6",
              "width": 0.5
             },
             "pattern": {
              "fillmode": "overlay",
              "size": 10,
              "solidity": 0.2
             }
            },
            "type": "bar"
           }
          ],
          "barpolar": [
           {
            "marker": {
             "line": {
              "color": "#E5ECF6",
              "width": 0.5
             },
             "pattern": {
              "fillmode": "overlay",
              "size": 10,
              "solidity": 0.2
             }
            },
            "type": "barpolar"
           }
          ],
          "carpet": [
           {
            "aaxis": {
             "endlinecolor": "#2a3f5f",
             "gridcolor": "white",
             "linecolor": "white",
             "minorgridcolor": "white",
             "startlinecolor": "#2a3f5f"
            },
            "baxis": {
             "endlinecolor": "#2a3f5f",
             "gridcolor": "white",
             "linecolor": "white",
             "minorgridcolor": "white",
             "startlinecolor": "#2a3f5f"
            },
            "type": "carpet"
           }
          ],
          "choropleth": [
           {
            "colorbar": {
             "outlinewidth": 0,
             "ticks": ""
            },
            "type": "choropleth"
           }
          ],
          "contour": [
           {
            "colorbar": {
             "outlinewidth": 0,
             "ticks": ""
            },
            "colorscale": [
             [
              0,
              "#0d0887"
             ],
             [
              0.1111111111111111,
              "#46039f"
             ],
             [
              0.2222222222222222,
              "#7201a8"
             ],
             [
              0.3333333333333333,
              "#9c179e"
             ],
             [
              0.4444444444444444,
              "#bd3786"
             ],
             [
              0.5555555555555556,
              "#d8576b"
             ],
             [
              0.6666666666666666,
              "#ed7953"
             ],
             [
              0.7777777777777778,
              "#fb9f3a"
             ],
             [
              0.8888888888888888,
              "#fdca26"
             ],
             [
              1,
              "#f0f921"
             ]
            ],
            "type": "contour"
           }
          ],
          "contourcarpet": [
           {
            "colorbar": {
             "outlinewidth": 0,
             "ticks": ""
            },
            "type": "contourcarpet"
           }
          ],
          "heatmap": [
           {
            "colorbar": {
             "outlinewidth": 0,
             "ticks": ""
            },
            "colorscale": [
             [
              0,
              "#0d0887"
             ],
             [
              0.1111111111111111,
              "#46039f"
             ],
             [
              0.2222222222222222,
              "#7201a8"
             ],
             [
              0.3333333333333333,
              "#9c179e"
             ],
             [
              0.4444444444444444,
              "#bd3786"
             ],
             [
              0.5555555555555556,
              "#d8576b"
             ],
             [
              0.6666666666666666,
              "#ed7953"
             ],
             [
              0.7777777777777778,
              "#fb9f3a"
             ],
             [
              0.8888888888888888,
              "#fdca26"
             ],
             [
              1,
              "#f0f921"
             ]
            ],
            "type": "heatmap"
           }
          ],
          "heatmapgl": [
           {
            "colorbar": {
             "outlinewidth": 0,
             "ticks": ""
            },
            "colorscale": [
             [
              0,
              "#0d0887"
             ],
             [
              0.1111111111111111,
              "#46039f"
             ],
             [
              0.2222222222222222,
              "#7201a8"
             ],
             [
              0.3333333333333333,
              "#9c179e"
             ],
             [
              0.4444444444444444,
              "#bd3786"
             ],
             [
              0.5555555555555556,
              "#d8576b"
             ],
             [
              0.6666666666666666,
              "#ed7953"
             ],
             [
              0.7777777777777778,
              "#fb9f3a"
             ],
             [
              0.8888888888888888,
              "#fdca26"
             ],
             [
              1,
              "#f0f921"
             ]
            ],
            "type": "heatmapgl"
           }
          ],
          "histogram": [
           {
            "marker": {
             "pattern": {
              "fillmode": "overlay",
              "size": 10,
              "solidity": 0.2
             }
            },
            "type": "histogram"
           }
          ],
          "histogram2d": [
           {
            "colorbar": {
             "outlinewidth": 0,
             "ticks": ""
            },
            "colorscale": [
             [
              0,
              "#0d0887"
             ],
             [
              0.1111111111111111,
              "#46039f"
             ],
             [
              0.2222222222222222,
              "#7201a8"
             ],
             [
              0.3333333333333333,
              "#9c179e"
             ],
             [
              0.4444444444444444,
              "#bd3786"
             ],
             [
              0.5555555555555556,
              "#d8576b"
             ],
             [
              0.6666666666666666,
              "#ed7953"
             ],
             [
              0.7777777777777778,
              "#fb9f3a"
             ],
             [
              0.8888888888888888,
              "#fdca26"
             ],
             [
              1,
              "#f0f921"
             ]
            ],
            "type": "histogram2d"
           }
          ],
          "histogram2dcontour": [
           {
            "colorbar": {
             "outlinewidth": 0,
             "ticks": ""
            },
            "colorscale": [
             [
              0,
              "#0d0887"
             ],
             [
              0.1111111111111111,
              "#46039f"
             ],
             [
              0.2222222222222222,
              "#7201a8"
             ],
             [
              0.3333333333333333,
              "#9c179e"
             ],
             [
              0.4444444444444444,
              "#bd3786"
             ],
             [
              0.5555555555555556,
              "#d8576b"
             ],
             [
              0.6666666666666666,
              "#ed7953"
             ],
             [
              0.7777777777777778,
              "#fb9f3a"
             ],
             [
              0.8888888888888888,
              "#fdca26"
             ],
             [
              1,
              "#f0f921"
             ]
            ],
            "type": "histogram2dcontour"
           }
          ],
          "mesh3d": [
           {
            "colorbar": {
             "outlinewidth": 0,
             "ticks": ""
            },
            "type": "mesh3d"
           }
          ],
          "parcoords": [
           {
            "line": {
             "colorbar": {
              "outlinewidth": 0,
              "ticks": ""
             }
            },
            "type": "parcoords"
           }
          ],
          "pie": [
           {
            "automargin": true,
            "type": "pie"
           }
          ],
          "scatter": [
           {
            "marker": {
             "colorbar": {
              "outlinewidth": 0,
              "ticks": ""
             }
            },
            "type": "scatter"
           }
          ],
          "scatter3d": [
           {
            "line": {
             "colorbar": {
              "outlinewidth": 0,
              "ticks": ""
             }
            },
            "marker": {
             "colorbar": {
              "outlinewidth": 0,
              "ticks": ""
             }
            },
            "type": "scatter3d"
           }
          ],
          "scattercarpet": [
           {
            "marker": {
             "colorbar": {
              "outlinewidth": 0,
              "ticks": ""
             }
            },
            "type": "scattercarpet"
           }
          ],
          "scattergeo": [
           {
            "marker": {
             "colorbar": {
              "outlinewidth": 0,
              "ticks": ""
             }
            },
            "type": "scattergeo"
           }
          ],
          "scattergl": [
           {
            "marker": {
             "colorbar": {
              "outlinewidth": 0,
              "ticks": ""
             }
            },
            "type": "scattergl"
           }
          ],
          "scattermapbox": [
           {
            "marker": {
             "colorbar": {
              "outlinewidth": 0,
              "ticks": ""
             }
            },
            "type": "scattermapbox"
           }
          ],
          "scatterpolar": [
           {
            "marker": {
             "colorbar": {
              "outlinewidth": 0,
              "ticks": ""
             }
            },
            "type": "scatterpolar"
           }
          ],
          "scatterpolargl": [
           {
            "marker": {
             "colorbar": {
              "outlinewidth": 0,
              "ticks": ""
             }
            },
            "type": "scatterpolargl"
           }
          ],
          "scatterternary": [
           {
            "marker": {
             "colorbar": {
              "outlinewidth": 0,
              "ticks": ""
             }
            },
            "type": "scatterternary"
           }
          ],
          "surface": [
           {
            "colorbar": {
             "outlinewidth": 0,
             "ticks": ""
            },
            "colorscale": [
             [
              0,
              "#0d0887"
             ],
             [
              0.1111111111111111,
              "#46039f"
             ],
             [
              0.2222222222222222,
              "#7201a8"
             ],
             [
              0.3333333333333333,
              "#9c179e"
             ],
             [
              0.4444444444444444,
              "#bd3786"
             ],
             [
              0.5555555555555556,
              "#d8576b"
             ],
             [
              0.6666666666666666,
              "#ed7953"
             ],
             [
              0.7777777777777778,
              "#fb9f3a"
             ],
             [
              0.8888888888888888,
              "#fdca26"
             ],
             [
              1,
              "#f0f921"
             ]
            ],
            "type": "surface"
           }
          ],
          "table": [
           {
            "cells": {
             "fill": {
              "color": "#EBF0F8"
             },
             "line": {
              "color": "white"
             }
            },
            "header": {
             "fill": {
              "color": "#C8D4E3"
             },
             "line": {
              "color": "white"
             }
            },
            "type": "table"
           }
          ]
         },
         "layout": {
          "annotationdefaults": {
           "arrowcolor": "#2a3f5f",
           "arrowhead": 0,
           "arrowwidth": 1
          },
          "autotypenumbers": "strict",
          "coloraxis": {
           "colorbar": {
            "outlinewidth": 0,
            "ticks": ""
           }
          },
          "colorscale": {
           "diverging": [
            [
             0,
             "#8e0152"
            ],
            [
             0.1,
             "#c51b7d"
            ],
            [
             0.2,
             "#de77ae"
            ],
            [
             0.3,
             "#f1b6da"
            ],
            [
             0.4,
             "#fde0ef"
            ],
            [
             0.5,
             "#f7f7f7"
            ],
            [
             0.6,
             "#e6f5d0"
            ],
            [
             0.7,
             "#b8e186"
            ],
            [
             0.8,
             "#7fbc41"
            ],
            [
             0.9,
             "#4d9221"
            ],
            [
             1,
             "#276419"
            ]
           ],
           "sequential": [
            [
             0,
             "#0d0887"
            ],
            [
             0.1111111111111111,
             "#46039f"
            ],
            [
             0.2222222222222222,
             "#7201a8"
            ],
            [
             0.3333333333333333,
             "#9c179e"
            ],
            [
             0.4444444444444444,
             "#bd3786"
            ],
            [
             0.5555555555555556,
             "#d8576b"
            ],
            [
             0.6666666666666666,
             "#ed7953"
            ],
            [
             0.7777777777777778,
             "#fb9f3a"
            ],
            [
             0.8888888888888888,
             "#fdca26"
            ],
            [
             1,
             "#f0f921"
            ]
           ],
           "sequentialminus": [
            [
             0,
             "#0d0887"
            ],
            [
             0.1111111111111111,
             "#46039f"
            ],
            [
             0.2222222222222222,
             "#7201a8"
            ],
            [
             0.3333333333333333,
             "#9c179e"
            ],
            [
             0.4444444444444444,
             "#bd3786"
            ],
            [
             0.5555555555555556,
             "#d8576b"
            ],
            [
             0.6666666666666666,
             "#ed7953"
            ],
            [
             0.7777777777777778,
             "#fb9f3a"
            ],
            [
             0.8888888888888888,
             "#fdca26"
            ],
            [
             1,
             "#f0f921"
            ]
           ]
          },
          "colorway": [
           "#636efa",
           "#EF553B",
           "#00cc96",
           "#ab63fa",
           "#FFA15A",
           "#19d3f3",
           "#FF6692",
           "#B6E880",
           "#FF97FF",
           "#FECB52"
          ],
          "font": {
           "color": "#2a3f5f"
          },
          "geo": {
           "bgcolor": "white",
           "lakecolor": "white",
           "landcolor": "#E5ECF6",
           "showlakes": true,
           "showland": true,
           "subunitcolor": "white"
          },
          "hoverlabel": {
           "align": "left"
          },
          "hovermode": "closest",
          "mapbox": {
           "style": "light"
          },
          "paper_bgcolor": "white",
          "plot_bgcolor": "#E5ECF6",
          "polar": {
           "angularaxis": {
            "gridcolor": "white",
            "linecolor": "white",
            "ticks": ""
           },
           "bgcolor": "#E5ECF6",
           "radialaxis": {
            "gridcolor": "white",
            "linecolor": "white",
            "ticks": ""
           }
          },
          "scene": {
           "xaxis": {
            "backgroundcolor": "#E5ECF6",
            "gridcolor": "white",
            "gridwidth": 2,
            "linecolor": "white",
            "showbackground": true,
            "ticks": "",
            "zerolinecolor": "white"
           },
           "yaxis": {
            "backgroundcolor": "#E5ECF6",
            "gridcolor": "white",
            "gridwidth": 2,
            "linecolor": "white",
            "showbackground": true,
            "ticks": "",
            "zerolinecolor": "white"
           },
           "zaxis": {
            "backgroundcolor": "#E5ECF6",
            "gridcolor": "white",
            "gridwidth": 2,
            "linecolor": "white",
            "showbackground": true,
            "ticks": "",
            "zerolinecolor": "white"
           }
          },
          "shapedefaults": {
           "line": {
            "color": "#2a3f5f"
           }
          },
          "ternary": {
           "aaxis": {
            "gridcolor": "white",
            "linecolor": "white",
            "ticks": ""
           },
           "baxis": {
            "gridcolor": "white",
            "linecolor": "white",
            "ticks": ""
           },
           "bgcolor": "#E5ECF6",
           "caxis": {
            "gridcolor": "white",
            "linecolor": "white",
            "ticks": ""
           }
          },
          "title": {
           "x": 0.05
          },
          "xaxis": {
           "automargin": true,
           "gridcolor": "white",
           "linecolor": "white",
           "ticks": "",
           "title": {
            "standoff": 15
           },
           "zerolinecolor": "white",
           "zerolinewidth": 2
          },
          "yaxis": {
           "automargin": true,
           "gridcolor": "white",
           "linecolor": "white",
           "ticks": "",
           "title": {
            "standoff": 15
           },
           "zerolinecolor": "white",
           "zerolinewidth": 2
          }
         }
        },
        "title": {
         "text": "cambium projections using DOE reference buildings (STD2013, ApartmentHighRise)"
        },
        "xaxis": {
         "anchor": "y",
         "domain": [
          0,
          1
         ],
         "title": {
          "text": "year"
         }
        },
        "yaxis": {
         "anchor": "x",
         "domain": [
          0,
          1
         ],
         "title": {
          "text": "kg/co2/sf/yr"
         }
        }
       }
      }
     },
     "metadata": {},
     "output_type": "display_data"
    }
   ],
   "source": [
    "\n",
    "cases = [\n",
    "    (0.8, 'Natural Gas', 'HighRECost'),\n",
    "    (2.5, 'Electricity', 'HighRECost',),\n",
    "\n",
    "    (0.8, 'Natural Gas', 'MidCase'),\n",
    "    (2.5, 'Electricity', 'MidCase'),\n",
    "\n",
    "    (0.8, 'Natural Gas', 'LowRECost'),\n",
    "    (2.5, 'Electricity', 'LowRECost'),\n",
    "]\n",
    "\n",
    "\n",
    "proj = [\n",
    "    projections.get_projection_from_reference_buildings({\n",
    "    'state': 'NY',\n",
    "    'climate_zone': '4A',\n",
    "    'projection_case': case[2],\n",
    "    'design_areas': [\n",
    "        {\n",
    "            'type': 'ApartmentHighRise',\n",
    "            'area': 200000,\n",
    "            'heating_fuel': case[1],\n",
    "            'dhw_fuel': case[1],\n",
    "            'heating_cop': case[0],\n",
    "            'dhw_cop': case[0],\n",
    "            'ashrae_standard': 'STD2013'\n",
    "        },\n",
    "        {\n",
    "            'type': 'OfficeSmall',\n",
    "            'area': 10000,\n",
    "            'heating_fuel': 'Natural Gas',\n",
    "            'dhw_fuel': 'Natural Gas',\n",
    "            'heating_cop': 0.8,\n",
    "            'dhw_cop': 0.8,\n",
    "            'ashrae_standard': 'STD2013'\n",
    "        },\n",
    "    ]\n",
    "}) for case in cases]\n",
    "\n",
    "df = pd.concat(\n",
    "    [x['emissions_projection'].set_index('year')['kg_co2_per_sf']\n",
    "for x in proj]\n",
    ", axis=1).dropna()\n",
    "\n",
    "df.columns = [''.join(str(x)) for x in cases]\n",
    "\n",
    "plot = px.line(df)\n",
    "plot.update_layout({\n",
    "    'title': 'cambium projections using DOE reference buildings (STD2013, ApartmentHighRise)',\n",
    "    'yaxis': {\n",
    "        'title': 'kg/co2/sf/yr'\n",
    "    },\n",
    "    'legend': {\n",
    "        'title': 'cases'\n",
    "    }\n",
    "})\n",
    "\n",
    "plot.show()"
   ]
  },
  {
   "cell_type": "code",
   "execution_count": 29,
   "metadata": {},
   "outputs": [
    {
     "data": {
      "text/html": [
       "<div>\n",
       "<style scoped>\n",
       "    .dataframe tbody tr th:only-of-type {\n",
       "        vertical-align: middle;\n",
       "    }\n",
       "\n",
       "    .dataframe tbody tr th {\n",
       "        vertical-align: top;\n",
       "    }\n",
       "\n",
       "    .dataframe thead tr th {\n",
       "        text-align: left;\n",
       "    }\n",
       "\n",
       "    .dataframe thead tr:last-of-type th {\n",
       "        text-align: right;\n",
       "    }\n",
       "</style>\n",
       "<table border=\"1\" class=\"dataframe\">\n",
       "  <thead>\n",
       "    <tr>\n",
       "      <th></th>\n",
       "      <th colspan=\"13\" halign=\"left\">kbtu_per_sf_total</th>\n",
       "    </tr>\n",
       "    <tr>\n",
       "      <th>enduse</th>\n",
       "      <th>Cooling</th>\n",
       "      <th>Exterior Equipment</th>\n",
       "      <th>Exterior Lighting</th>\n",
       "      <th>Fans</th>\n",
       "      <th>Heat Recovery</th>\n",
       "      <th>Heat Rejection</th>\n",
       "      <th>Heating</th>\n",
       "      <th>Humidification</th>\n",
       "      <th>Interior Equipment</th>\n",
       "      <th>Interior Lighting</th>\n",
       "      <th>Pumps</th>\n",
       "      <th>Refrigeration</th>\n",
       "      <th>Water Systems</th>\n",
       "    </tr>\n",
       "    <tr>\n",
       "      <th>simname</th>\n",
       "      <th></th>\n",
       "      <th></th>\n",
       "      <th></th>\n",
       "      <th></th>\n",
       "      <th></th>\n",
       "      <th></th>\n",
       "      <th></th>\n",
       "      <th></th>\n",
       "      <th></th>\n",
       "      <th></th>\n",
       "      <th></th>\n",
       "      <th></th>\n",
       "      <th></th>\n",
       "    </tr>\n",
       "  </thead>\n",
       "  <tbody>\n",
       "    <tr>\n",
       "      <th>ASHRAE901_ApartmentHighRise_STD2019_NewYork</th>\n",
       "      <td>2.935099</td>\n",
       "      <td>0.162752</td>\n",
       "      <td>1.326711</td>\n",
       "      <td>2.285354</td>\n",
       "      <td>NaN</td>\n",
       "      <td>0.071659</td>\n",
       "      <td>6.837202</td>\n",
       "      <td>NaN</td>\n",
       "      <td>12.713091</td>\n",
       "      <td>2.315034</td>\n",
       "      <td>0.402120</td>\n",
       "      <td>NaN</td>\n",
       "      <td>12.746095</td>\n",
       "    </tr>\n",
       "    <tr>\n",
       "      <th>ASHRAE901_ApartmentMidRise_STD2019_NewYork</th>\n",
       "      <td>2.667473</td>\n",
       "      <td>NaN</td>\n",
       "      <td>0.729710</td>\n",
       "      <td>2.007752</td>\n",
       "      <td>NaN</td>\n",
       "      <td>NaN</td>\n",
       "      <td>3.684562</td>\n",
       "      <td>NaN</td>\n",
       "      <td>14.364806</td>\n",
       "      <td>2.345032</td>\n",
       "      <td>NaN</td>\n",
       "      <td>NaN</td>\n",
       "      <td>11.118192</td>\n",
       "    </tr>\n",
       "    <tr>\n",
       "      <th>ASHRAE901_Hospital_STD2019_NewYork</th>\n",
       "      <td>9.846508</td>\n",
       "      <td>10.123957</td>\n",
       "      <td>0.609042</td>\n",
       "      <td>11.154068</td>\n",
       "      <td>0.691893</td>\n",
       "      <td>0.836878</td>\n",
       "      <td>11.207852</td>\n",
       "      <td>3.517678</td>\n",
       "      <td>38.031079</td>\n",
       "      <td>12.869534</td>\n",
       "      <td>1.336147</td>\n",
       "      <td>0.429338</td>\n",
       "      <td>4.913679</td>\n",
       "    </tr>\n",
       "    <tr>\n",
       "      <th>ASHRAE901_HotelLarge_STD2019_NewYork</th>\n",
       "      <td>7.418890</td>\n",
       "      <td>7.548063</td>\n",
       "      <td>1.420511</td>\n",
       "      <td>5.110130</td>\n",
       "      <td>0.823552</td>\n",
       "      <td>NaN</td>\n",
       "      <td>2.615469</td>\n",
       "      <td>NaN</td>\n",
       "      <td>26.693559</td>\n",
       "      <td>4.087444</td>\n",
       "      <td>0.404277</td>\n",
       "      <td>0.378932</td>\n",
       "      <td>17.190832</td>\n",
       "    </tr>\n",
       "    <tr>\n",
       "      <th>ASHRAE901_HotelSmall_STD2019_NewYork</th>\n",
       "      <td>5.480165</td>\n",
       "      <td>NaN</td>\n",
       "      <td>0.973325</td>\n",
       "      <td>3.317845</td>\n",
       "      <td>NaN</td>\n",
       "      <td>NaN</td>\n",
       "      <td>3.431754</td>\n",
       "      <td>NaN</td>\n",
       "      <td>21.494150</td>\n",
       "      <td>4.031864</td>\n",
       "      <td>0.005616</td>\n",
       "      <td>NaN</td>\n",
       "      <td>13.170744</td>\n",
       "    </tr>\n",
       "    <tr>\n",
       "      <th>ASHRAE901_OfficeLarge_STD2019_NewYork</th>\n",
       "      <td>4.414624</td>\n",
       "      <td>3.719760</td>\n",
       "      <td>0.656137</td>\n",
       "      <td>3.711413</td>\n",
       "      <td>0.086014</td>\n",
       "      <td>1.481070</td>\n",
       "      <td>1.345701</td>\n",
       "      <td>2.177646</td>\n",
       "      <td>27.915578</td>\n",
       "      <td>4.911807</td>\n",
       "      <td>0.602423</td>\n",
       "      <td>NaN</td>\n",
       "      <td>1.098186</td>\n",
       "    </tr>\n",
       "    <tr>\n",
       "      <th>ASHRAE901_OfficeMedium_STD2019_NewYork</th>\n",
       "      <td>3.800584</td>\n",
       "      <td>0.206930</td>\n",
       "      <td>0.828332</td>\n",
       "      <td>1.129291</td>\n",
       "      <td>NaN</td>\n",
       "      <td>NaN</td>\n",
       "      <td>4.385811</td>\n",
       "      <td>NaN</td>\n",
       "      <td>13.264280</td>\n",
       "      <td>4.371358</td>\n",
       "      <td>0.002592</td>\n",
       "      <td>NaN</td>\n",
       "      <td>1.476059</td>\n",
       "    </tr>\n",
       "    <tr>\n",
       "      <th>ASHRAE901_OfficeSmall_STD2019_NewYork</th>\n",
       "      <td>2.591420</td>\n",
       "      <td>NaN</td>\n",
       "      <td>0.981721</td>\n",
       "      <td>2.638199</td>\n",
       "      <td>NaN</td>\n",
       "      <td>NaN</td>\n",
       "      <td>2.303581</td>\n",
       "      <td>NaN</td>\n",
       "      <td>8.323937</td>\n",
       "      <td>4.430848</td>\n",
       "      <td>NaN</td>\n",
       "      <td>NaN</td>\n",
       "      <td>3.103773</td>\n",
       "    </tr>\n",
       "    <tr>\n",
       "      <th>ASHRAE901_RestaurantFastFood_STD2019_NewYork</th>\n",
       "      <td>22.207620</td>\n",
       "      <td>NaN</td>\n",
       "      <td>3.363799</td>\n",
       "      <td>18.938021</td>\n",
       "      <td>NaN</td>\n",
       "      <td>NaN</td>\n",
       "      <td>81.885881</td>\n",
       "      <td>NaN</td>\n",
       "      <td>276.534788</td>\n",
       "      <td>9.639803</td>\n",
       "      <td>NaN</td>\n",
       "      <td>14.304463</td>\n",
       "      <td>71.190548</td>\n",
       "    </tr>\n",
       "    <tr>\n",
       "      <th>ASHRAE901_RestaurantSitDown_STD2019_NewYork</th>\n",
       "      <td>20.472937</td>\n",
       "      <td>NaN</td>\n",
       "      <td>3.239000</td>\n",
       "      <td>14.206433</td>\n",
       "      <td>NaN</td>\n",
       "      <td>NaN</td>\n",
       "      <td>60.855856</td>\n",
       "      <td>NaN</td>\n",
       "      <td>156.068432</td>\n",
       "      <td>8.709360</td>\n",
       "      <td>0.076875</td>\n",
       "      <td>6.307625</td>\n",
       "      <td>69.240996</td>\n",
       "    </tr>\n",
       "    <tr>\n",
       "      <th>ASHRAE901_RetailStandalone_STD2019_NewYork</th>\n",
       "      <td>5.169715</td>\n",
       "      <td>NaN</td>\n",
       "      <td>1.492506</td>\n",
       "      <td>5.249038</td>\n",
       "      <td>NaN</td>\n",
       "      <td>NaN</td>\n",
       "      <td>15.439662</td>\n",
       "      <td>NaN</td>\n",
       "      <td>7.462347</td>\n",
       "      <td>9.208357</td>\n",
       "      <td>NaN</td>\n",
       "      <td>NaN</td>\n",
       "      <td>3.619841</td>\n",
       "    </tr>\n",
       "    <tr>\n",
       "      <th>ASHRAE901_RetailStripmall_STD2019_NewYork</th>\n",
       "      <td>4.555750</td>\n",
       "      <td>NaN</td>\n",
       "      <td>2.527899</td>\n",
       "      <td>4.146879</td>\n",
       "      <td>NaN</td>\n",
       "      <td>NaN</td>\n",
       "      <td>19.148249</td>\n",
       "      <td>NaN</td>\n",
       "      <td>5.401605</td>\n",
       "      <td>16.792553</td>\n",
       "      <td>NaN</td>\n",
       "      <td>NaN</td>\n",
       "      <td>2.684851</td>\n",
       "    </tr>\n",
       "    <tr>\n",
       "      <th>ASHRAE901_SchoolPrimary_STD2019_NewYork</th>\n",
       "      <td>4.600656</td>\n",
       "      <td>0.218918</td>\n",
       "      <td>0.330026</td>\n",
       "      <td>3.531131</td>\n",
       "      <td>0.877469</td>\n",
       "      <td>NaN</td>\n",
       "      <td>3.794003</td>\n",
       "      <td>NaN</td>\n",
       "      <td>19.050213</td>\n",
       "      <td>3.688138</td>\n",
       "      <td>0.031327</td>\n",
       "      <td>0.582034</td>\n",
       "      <td>1.881187</td>\n",
       "    </tr>\n",
       "    <tr>\n",
       "      <th>ASHRAE901_SchoolSecondary_STD2019_NewYork</th>\n",
       "      <td>5.850751</td>\n",
       "      <td>0.132312</td>\n",
       "      <td>0.308676</td>\n",
       "      <td>3.361854</td>\n",
       "      <td>1.168268</td>\n",
       "      <td>NaN</td>\n",
       "      <td>2.368656</td>\n",
       "      <td>NaN</td>\n",
       "      <td>13.113500</td>\n",
       "      <td>3.709627</td>\n",
       "      <td>0.115080</td>\n",
       "      <td>0.427003</td>\n",
       "      <td>2.939547</td>\n",
       "    </tr>\n",
       "    <tr>\n",
       "      <th>ASHRAE901_Warehouse_STD2019_NewYork</th>\n",
       "      <td>0.328584</td>\n",
       "      <td>NaN</td>\n",
       "      <td>1.042921</td>\n",
       "      <td>0.737003</td>\n",
       "      <td>NaN</td>\n",
       "      <td>NaN</td>\n",
       "      <td>10.675101</td>\n",
       "      <td>NaN</td>\n",
       "      <td>2.487307</td>\n",
       "      <td>3.013802</td>\n",
       "      <td>NaN</td>\n",
       "      <td>NaN</td>\n",
       "      <td>0.463583</td>\n",
       "    </tr>\n",
       "  </tbody>\n",
       "</table>\n",
       "</div>"
      ],
      "text/plain": [
       "                                             kbtu_per_sf_total  \\\n",
       "enduse                                                 Cooling   \n",
       "simname                                                          \n",
       "ASHRAE901_ApartmentHighRise_STD2019_NewYork           2.935099   \n",
       "ASHRAE901_ApartmentMidRise_STD2019_NewYork            2.667473   \n",
       "ASHRAE901_Hospital_STD2019_NewYork                    9.846508   \n",
       "ASHRAE901_HotelLarge_STD2019_NewYork                  7.418890   \n",
       "ASHRAE901_HotelSmall_STD2019_NewYork                  5.480165   \n",
       "ASHRAE901_OfficeLarge_STD2019_NewYork                 4.414624   \n",
       "ASHRAE901_OfficeMedium_STD2019_NewYork                3.800584   \n",
       "ASHRAE901_OfficeSmall_STD2019_NewYork                 2.591420   \n",
       "ASHRAE901_RestaurantFastFood_STD2019_NewYork         22.207620   \n",
       "ASHRAE901_RestaurantSitDown_STD2019_NewYork          20.472937   \n",
       "ASHRAE901_RetailStandalone_STD2019_NewYork            5.169715   \n",
       "ASHRAE901_RetailStripmall_STD2019_NewYork             4.555750   \n",
       "ASHRAE901_SchoolPrimary_STD2019_NewYork               4.600656   \n",
       "ASHRAE901_SchoolSecondary_STD2019_NewYork             5.850751   \n",
       "ASHRAE901_Warehouse_STD2019_NewYork                   0.328584   \n",
       "\n",
       "                                                                 \\\n",
       "enduse                                       Exterior Equipment   \n",
       "simname                                                           \n",
       "ASHRAE901_ApartmentHighRise_STD2019_NewYork            0.162752   \n",
       "ASHRAE901_ApartmentMidRise_STD2019_NewYork                  NaN   \n",
       "ASHRAE901_Hospital_STD2019_NewYork                    10.123957   \n",
       "ASHRAE901_HotelLarge_STD2019_NewYork                   7.548063   \n",
       "ASHRAE901_HotelSmall_STD2019_NewYork                        NaN   \n",
       "ASHRAE901_OfficeLarge_STD2019_NewYork                  3.719760   \n",
       "ASHRAE901_OfficeMedium_STD2019_NewYork                 0.206930   \n",
       "ASHRAE901_OfficeSmall_STD2019_NewYork                       NaN   \n",
       "ASHRAE901_RestaurantFastFood_STD2019_NewYork                NaN   \n",
       "ASHRAE901_RestaurantSitDown_STD2019_NewYork                 NaN   \n",
       "ASHRAE901_RetailStandalone_STD2019_NewYork                  NaN   \n",
       "ASHRAE901_RetailStripmall_STD2019_NewYork                   NaN   \n",
       "ASHRAE901_SchoolPrimary_STD2019_NewYork                0.218918   \n",
       "ASHRAE901_SchoolSecondary_STD2019_NewYork              0.132312   \n",
       "ASHRAE901_Warehouse_STD2019_NewYork                         NaN   \n",
       "\n",
       "                                                                           \\\n",
       "enduse                                       Exterior Lighting       Fans   \n",
       "simname                                                                     \n",
       "ASHRAE901_ApartmentHighRise_STD2019_NewYork           1.326711   2.285354   \n",
       "ASHRAE901_ApartmentMidRise_STD2019_NewYork            0.729710   2.007752   \n",
       "ASHRAE901_Hospital_STD2019_NewYork                    0.609042  11.154068   \n",
       "ASHRAE901_HotelLarge_STD2019_NewYork                  1.420511   5.110130   \n",
       "ASHRAE901_HotelSmall_STD2019_NewYork                  0.973325   3.317845   \n",
       "ASHRAE901_OfficeLarge_STD2019_NewYork                 0.656137   3.711413   \n",
       "ASHRAE901_OfficeMedium_STD2019_NewYork                0.828332   1.129291   \n",
       "ASHRAE901_OfficeSmall_STD2019_NewYork                 0.981721   2.638199   \n",
       "ASHRAE901_RestaurantFastFood_STD2019_NewYork          3.363799  18.938021   \n",
       "ASHRAE901_RestaurantSitDown_STD2019_NewYork           3.239000  14.206433   \n",
       "ASHRAE901_RetailStandalone_STD2019_NewYork            1.492506   5.249038   \n",
       "ASHRAE901_RetailStripmall_STD2019_NewYork             2.527899   4.146879   \n",
       "ASHRAE901_SchoolPrimary_STD2019_NewYork               0.330026   3.531131   \n",
       "ASHRAE901_SchoolSecondary_STD2019_NewYork             0.308676   3.361854   \n",
       "ASHRAE901_Warehouse_STD2019_NewYork                   1.042921   0.737003   \n",
       "\n",
       "                                                                           \\\n",
       "enduse                                       Heat Recovery Heat Rejection   \n",
       "simname                                                                     \n",
       "ASHRAE901_ApartmentHighRise_STD2019_NewYork            NaN       0.071659   \n",
       "ASHRAE901_ApartmentMidRise_STD2019_NewYork             NaN            NaN   \n",
       "ASHRAE901_Hospital_STD2019_NewYork                0.691893       0.836878   \n",
       "ASHRAE901_HotelLarge_STD2019_NewYork              0.823552            NaN   \n",
       "ASHRAE901_HotelSmall_STD2019_NewYork                   NaN            NaN   \n",
       "ASHRAE901_OfficeLarge_STD2019_NewYork             0.086014       1.481070   \n",
       "ASHRAE901_OfficeMedium_STD2019_NewYork                 NaN            NaN   \n",
       "ASHRAE901_OfficeSmall_STD2019_NewYork                  NaN            NaN   \n",
       "ASHRAE901_RestaurantFastFood_STD2019_NewYork           NaN            NaN   \n",
       "ASHRAE901_RestaurantSitDown_STD2019_NewYork            NaN            NaN   \n",
       "ASHRAE901_RetailStandalone_STD2019_NewYork             NaN            NaN   \n",
       "ASHRAE901_RetailStripmall_STD2019_NewYork              NaN            NaN   \n",
       "ASHRAE901_SchoolPrimary_STD2019_NewYork           0.877469            NaN   \n",
       "ASHRAE901_SchoolSecondary_STD2019_NewYork         1.168268            NaN   \n",
       "ASHRAE901_Warehouse_STD2019_NewYork                    NaN            NaN   \n",
       "\n",
       "                                                                        \\\n",
       "enduse                                          Heating Humidification   \n",
       "simname                                                                  \n",
       "ASHRAE901_ApartmentHighRise_STD2019_NewYork    6.837202            NaN   \n",
       "ASHRAE901_ApartmentMidRise_STD2019_NewYork     3.684562            NaN   \n",
       "ASHRAE901_Hospital_STD2019_NewYork            11.207852       3.517678   \n",
       "ASHRAE901_HotelLarge_STD2019_NewYork           2.615469            NaN   \n",
       "ASHRAE901_HotelSmall_STD2019_NewYork           3.431754            NaN   \n",
       "ASHRAE901_OfficeLarge_STD2019_NewYork          1.345701       2.177646   \n",
       "ASHRAE901_OfficeMedium_STD2019_NewYork         4.385811            NaN   \n",
       "ASHRAE901_OfficeSmall_STD2019_NewYork          2.303581            NaN   \n",
       "ASHRAE901_RestaurantFastFood_STD2019_NewYork  81.885881            NaN   \n",
       "ASHRAE901_RestaurantSitDown_STD2019_NewYork   60.855856            NaN   \n",
       "ASHRAE901_RetailStandalone_STD2019_NewYork    15.439662            NaN   \n",
       "ASHRAE901_RetailStripmall_STD2019_NewYork     19.148249            NaN   \n",
       "ASHRAE901_SchoolPrimary_STD2019_NewYork        3.794003            NaN   \n",
       "ASHRAE901_SchoolSecondary_STD2019_NewYork      2.368656            NaN   \n",
       "ASHRAE901_Warehouse_STD2019_NewYork           10.675101            NaN   \n",
       "\n",
       "                                                                 \\\n",
       "enduse                                       Interior Equipment   \n",
       "simname                                                           \n",
       "ASHRAE901_ApartmentHighRise_STD2019_NewYork           12.713091   \n",
       "ASHRAE901_ApartmentMidRise_STD2019_NewYork            14.364806   \n",
       "ASHRAE901_Hospital_STD2019_NewYork                    38.031079   \n",
       "ASHRAE901_HotelLarge_STD2019_NewYork                  26.693559   \n",
       "ASHRAE901_HotelSmall_STD2019_NewYork                  21.494150   \n",
       "ASHRAE901_OfficeLarge_STD2019_NewYork                 27.915578   \n",
       "ASHRAE901_OfficeMedium_STD2019_NewYork                13.264280   \n",
       "ASHRAE901_OfficeSmall_STD2019_NewYork                  8.323937   \n",
       "ASHRAE901_RestaurantFastFood_STD2019_NewYork         276.534788   \n",
       "ASHRAE901_RestaurantSitDown_STD2019_NewYork          156.068432   \n",
       "ASHRAE901_RetailStandalone_STD2019_NewYork             7.462347   \n",
       "ASHRAE901_RetailStripmall_STD2019_NewYork              5.401605   \n",
       "ASHRAE901_SchoolPrimary_STD2019_NewYork               19.050213   \n",
       "ASHRAE901_SchoolSecondary_STD2019_NewYork             13.113500   \n",
       "ASHRAE901_Warehouse_STD2019_NewYork                    2.487307   \n",
       "\n",
       "                                                                          \\\n",
       "enduse                                       Interior Lighting     Pumps   \n",
       "simname                                                                    \n",
       "ASHRAE901_ApartmentHighRise_STD2019_NewYork           2.315034  0.402120   \n",
       "ASHRAE901_ApartmentMidRise_STD2019_NewYork            2.345032       NaN   \n",
       "ASHRAE901_Hospital_STD2019_NewYork                   12.869534  1.336147   \n",
       "ASHRAE901_HotelLarge_STD2019_NewYork                  4.087444  0.404277   \n",
       "ASHRAE901_HotelSmall_STD2019_NewYork                  4.031864  0.005616   \n",
       "ASHRAE901_OfficeLarge_STD2019_NewYork                 4.911807  0.602423   \n",
       "ASHRAE901_OfficeMedium_STD2019_NewYork                4.371358  0.002592   \n",
       "ASHRAE901_OfficeSmall_STD2019_NewYork                 4.430848       NaN   \n",
       "ASHRAE901_RestaurantFastFood_STD2019_NewYork          9.639803       NaN   \n",
       "ASHRAE901_RestaurantSitDown_STD2019_NewYork           8.709360  0.076875   \n",
       "ASHRAE901_RetailStandalone_STD2019_NewYork            9.208357       NaN   \n",
       "ASHRAE901_RetailStripmall_STD2019_NewYork            16.792553       NaN   \n",
       "ASHRAE901_SchoolPrimary_STD2019_NewYork               3.688138  0.031327   \n",
       "ASHRAE901_SchoolSecondary_STD2019_NewYork             3.709627  0.115080   \n",
       "ASHRAE901_Warehouse_STD2019_NewYork                   3.013802       NaN   \n",
       "\n",
       "                                                                          \n",
       "enduse                                       Refrigeration Water Systems  \n",
       "simname                                                                   \n",
       "ASHRAE901_ApartmentHighRise_STD2019_NewYork            NaN     12.746095  \n",
       "ASHRAE901_ApartmentMidRise_STD2019_NewYork             NaN     11.118192  \n",
       "ASHRAE901_Hospital_STD2019_NewYork                0.429338      4.913679  \n",
       "ASHRAE901_HotelLarge_STD2019_NewYork              0.378932     17.190832  \n",
       "ASHRAE901_HotelSmall_STD2019_NewYork                   NaN     13.170744  \n",
       "ASHRAE901_OfficeLarge_STD2019_NewYork                  NaN      1.098186  \n",
       "ASHRAE901_OfficeMedium_STD2019_NewYork                 NaN      1.476059  \n",
       "ASHRAE901_OfficeSmall_STD2019_NewYork                  NaN      3.103773  \n",
       "ASHRAE901_RestaurantFastFood_STD2019_NewYork     14.304463     71.190548  \n",
       "ASHRAE901_RestaurantSitDown_STD2019_NewYork       6.307625     69.240996  \n",
       "ASHRAE901_RetailStandalone_STD2019_NewYork             NaN      3.619841  \n",
       "ASHRAE901_RetailStripmall_STD2019_NewYork              NaN      2.684851  \n",
       "ASHRAE901_SchoolPrimary_STD2019_NewYork           0.582034      1.881187  \n",
       "ASHRAE901_SchoolSecondary_STD2019_NewYork         0.427003      2.939547  \n",
       "ASHRAE901_Warehouse_STD2019_NewYork                    NaN      0.463583  "
      ]
     },
     "execution_count": 29,
     "metadata": {},
     "output_type": "execute_result"
    }
   ],
   "source": [
    "df = becp.projections.get_reference_buildings_data()['enduses']\n",
    "\n",
    "# df.groupby(['enduse', 'subcategory']).mean()\n",
    "\n",
    "p = df.loc[df.simname.str.contains(\"STD2019_NewYork\")].groupby(['simname', 'enduse']).sum()['kbtu_per_sf_total'].reset_index()\n",
    "pd.pivot_table(p, index='simname', columns='enduse')"
   ]
  },
  {
   "cell_type": "code",
   "execution_count": 86,
   "metadata": {},
   "outputs": [
    {
     "data": {
      "text/plain": [
       "[{'year': 2018.0,\n",
       "  'elec_kg_per_kbtu': 0.05254982415005862,\n",
       "  'kg_co2_absolute': 390434.78550571285,\n",
       "  'kg_co2_per_sf': 1.8592132643129182},\n",
       " {'year': 2020.0,\n",
       "  'elec_kg_per_kbtu': 0.05046893317702227,\n",
       "  'kg_co2_absolute': 375151.68489971943,\n",
       "  'kg_co2_per_sf': 1.7864365947605687},\n",
       " {'year': 2022.0,\n",
       "  'elec_kg_per_kbtu': 0.05451348182883939,\n",
       "  'kg_co2_absolute': 404856.866359256,\n",
       "  'kg_co2_per_sf': 1.927889839805981},\n",
       " {'year': 2024.0,\n",
       "  'elec_kg_per_kbtu': 0.03930246189917937,\n",
       "  'kg_co2_absolute': 293139.55347882496,\n",
       "  'kg_co2_per_sf': 1.3959026356134523},\n",
       " {'year': 2026.0,\n",
       "  'elec_kg_per_kbtu': 0.0335873388042204,\n",
       "  'kg_co2_absolute': 251164.84054687116,\n",
       "  'kg_co2_per_sf': 1.1960230502231959},\n",
       " {'year': 2028.0,\n",
       "  'elec_kg_per_kbtu': 0.02816529894490035,\n",
       "  'kg_co2_absolute': 211342.67699604316,\n",
       "  'kg_co2_per_sf': 1.0063936999811578},\n",
       " {'year': 2030.0,\n",
       "  'elec_kg_per_kbtu': 0.024882766705744432,\n",
       "  'kg_co2_absolute': 187234.12392743374,\n",
       "  'kg_co2_per_sf': 0.8915910663211131},\n",
       " {'year': 2032.0,\n",
       "  'elec_kg_per_kbtu': 0.0238862837045721,\n",
       "  'kg_co2_absolute': 179915.45603160592,\n",
       "  'kg_co2_per_sf': 0.8567402668171711},\n",
       " {'year': 2034.0,\n",
       "  'elec_kg_per_kbtu': 0.02142438452520516,\n",
       "  'kg_co2_absolute': 161834.04123014887,\n",
       "  'kg_co2_per_sf': 0.7706382915721375},\n",
       " {'year': 2036.0,\n",
       "  'elec_kg_per_kbtu': 0.02579132473622509,\n",
       "  'kg_co2_absolute': 193907.02700892385,\n",
       "  'kg_co2_per_sf': 0.9233667952805897},\n",
       " {'year': 2038.0,\n",
       "  'elec_kg_per_kbtu': 0.02637749120750293,\n",
       "  'kg_co2_absolute': 198212.12577117555,\n",
       "  'kg_co2_per_sf': 0.9438672655770264},\n",
       " {'year': 2040.0,\n",
       "  'elec_kg_per_kbtu': 0.023856975381008207,\n",
       "  'kg_co2_absolute': 179700.20109349332,\n",
       "  'kg_co2_per_sf': 0.8557152433023492},\n",
       " {'year': 2042.0,\n",
       "  'elec_kg_per_kbtu': 0.024237983587338804,\n",
       "  'kg_co2_absolute': 182498.5152889569,\n",
       "  'kg_co2_per_sf': 0.8690405489950328},\n",
       " {'year': 2044.0,\n",
       "  'elec_kg_per_kbtu': 0.024531066822977725,\n",
       "  'kg_co2_absolute': 184651.06467008273,\n",
       "  'kg_co2_per_sf': 0.8792907841432511},\n",
       " {'year': 2046.0,\n",
       "  'elec_kg_per_kbtu': 0.023739742086752638,\n",
       "  'kg_co2_absolute': 178839.18134104297,\n",
       "  'kg_co2_per_sf': 0.8516151492430618},\n",
       " {'year': 2048.0,\n",
       "  'elec_kg_per_kbtu': 0.023944900351699883,\n",
       "  'kg_co2_absolute': 180345.9659078311,\n",
       "  'kg_co2_per_sf': 0.8587903138468147},\n",
       " {'year': 2050.0,\n",
       "  'elec_kg_per_kbtu': 0.02321219226260258,\n",
       "  'kg_co2_absolute': 174964.5924550165,\n",
       "  'kg_co2_per_sf': 0.8331647259762691}]"
      ]
     },
     "execution_count": 86,
     "metadata": {},
     "output_type": "execute_result"
    }
   ],
   "source": [
    "argdict = {\n",
    "    'state': 'NY',\n",
    "    'climate_zone': '4A',\n",
    "    'projection_case': 'MidCase',\n",
    "    'design_areas': [\n",
    "        {\n",
    "            'type': 'ApartmentHighRise',\n",
    "            'area': 200000,\n",
    "            'heating_fuel': 'Electricity',\n",
    "            'dhw_fuel': 'Electricity',\n",
    "            'heating_cop': 2.5,\n",
    "            'dhw_cop': 2.5,\n",
    "            'ashrae_standard': 'STD2013'\n",
    "        },\n",
    "        {\n",
    "            'type': 'OfficeSmall',\n",
    "            'area': 10000,\n",
    "            'heating_fuel': 'Natural Gas',\n",
    "            'dhw_fuel': 'Natural Gas',\n",
    "            'heating_cop': 0.8,\n",
    "            'dhw_cop': 0.8,\n",
    "            'ashrae_standard': 'STD2013'\n",
    "        }],\n",
    "\n",
    "}\n",
    "\n",
    "end = projections.get_projection_from_reference_buildings(\n",
    "    argdict, as_dict=True\n",
    ")\n",
    "\n",
    "list(end.values())[0]"
   ]
  }
 ],
 "metadata": {
  "interpreter": {
   "hash": "34368ba4908ea1be08ba769dfb7764ab7f8ead2384ebb5604cb86637573696f7"
  },
  "kernelspec": {
   "display_name": "Python 3.8.12 64-bit (conda)",
   "language": "python",
   "name": "python3"
  },
  "language_info": {
   "codemirror_mode": {
    "name": "ipython",
    "version": 3
   },
   "file_extension": ".py",
   "mimetype": "text/x-python",
   "name": "python",
   "nbconvert_exporter": "python",
   "pygments_lexer": "ipython3",
   "version": "3.8.5"
  },
  "orig_nbformat": 4
 },
 "nbformat": 4,
 "nbformat_minor": 2
}
