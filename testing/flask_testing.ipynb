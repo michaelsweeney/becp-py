{
 "cells": [
  {
   "cell_type": "code",
   "execution_count": 6,
   "metadata": {},
   "outputs": [
    {
     "data": {
      "text/plain": [
       "'{\"state\": \"NY\", \"climate_zone\": \"5A\", \"projection_case\": \"MidCase\", \"design_areas\": [{\"type\": \"ApartmentHighRise\", \"area\": 200000, \"heating_fuel\": \"Electricity\", \"dhw_fuel\": \"Electricity\", \"heating_cop\": 2.5, \"dhw_cop\": 2.5, \"ashrae_standard\": \"STD2013\"}, {\"type\": \"OfficeSmall\", \"area\": 10000, \"heating_fuel\": \"Natural Gas\", \"dhw_fuel\": \"Natural Gas\", \"heating_cop\": 0.8, \"dhw_cop\": 0.8, \"ashrae_standard\": \"STD2013\"}]}'"
      ]
     },
     "execution_count": 6,
     "metadata": {},
     "output_type": "execute_result"
    }
   ],
   "source": [
    "import requests\n",
    "import json\n",
    "\n",
    "argdict = {\n",
    "    'state': 'NY',\n",
    "    'climate_zone': '5A',\n",
    "    'projection_case': 'MidCase',\n",
    "    'design_areas': [\n",
    "        {\n",
    "            'type': 'ApartmentHighRise',\n",
    "            'area': 200000,\n",
    "            'heating_fuel': 'Electricity',\n",
    "            'dhw_fuel': 'Electricity',\n",
    "            'heating_cop': 2.5,\n",
    "            'dhw_cop': 2.5,\n",
    "            'ashrae_standard': 'STD2013'\n",
    "        },\n",
    "        {\n",
    "            'type': 'OfficeSmall',\n",
    "            'area': 10000,\n",
    "            'heating_fuel': 'Natural Gas',\n",
    "            'dhw_fuel': 'Natural Gas',\n",
    "            'heating_cop': 0.8,\n",
    "            'dhw_cop': 0.8,\n",
    "            'ashrae_standard': 'STD2013'\n",
    "        }],\n",
    "}\n",
    "\n",
    "payload = json.dumps(argdict)\n",
    "\n",
    "r = requests.get(\n",
    "    'http://127.0.0.1:5000/get_projection_from_reference_buildings/', \n",
    "    data=payload\n",
    "    )\n",
    "\n",
    "r.request.body\n"
   ]
  }
 ],
 "metadata": {
  "interpreter": {
   "hash": "40d3a090f54c6569ab1632332b64b2c03c39dcf918b08424e98f38b5ae0af88f"
  },
  "kernelspec": {
   "display_name": "Python 3.8.5 64-bit ('base': conda)",
   "language": "python",
   "name": "python3"
  },
  "language_info": {
   "codemirror_mode": {
    "name": "ipython",
    "version": 3
   },
   "file_extension": ".py",
   "mimetype": "text/x-python",
   "name": "python",
   "nbconvert_exporter": "python",
   "pygments_lexer": "ipython3",
   "version": "3.8.5"
  },
  "orig_nbformat": 4
 },
 "nbformat": 4,
 "nbformat_minor": 2
}
