{
 "cells": [
  {
   "cell_type": "code",
   "execution_count": 21,
   "metadata": {},
   "outputs": [],
   "source": [
    "import requests\n",
    "import json\n",
    "import pandas as pd\n",
    "\n",
    "import plotly.express as px"
   ]
  },
  {
   "cell_type": "code",
   "execution_count": 22,
   "metadata": {},
   "outputs": [
    {
     "data": {
      "text/plain": [
       "{'emissions_projection': [{'year': 2018.0,\n",
       "   'elec_kg_per_kbtu': 0.05254982415005862,\n",
       "   'kg_co2_absolute': 389573.1973904364,\n",
       "   'kg_co2_per_sf': 1.855110463763983},\n",
       "  {'year': 2020.0,\n",
       "   'elec_kg_per_kbtu': 0.05046893317702227,\n",
       "   'kg_co2_absolute': 374417.98533580895,\n",
       "   'kg_co2_per_sf': 1.7829427873133759},\n",
       "  {'year': 2022.0,\n",
       "   'elec_kg_per_kbtu': 0.05451348182883939,\n",
       "   'kg_co2_absolute': 403874.5946814228,\n",
       "   'kg_co2_per_sf': 1.923212355625823},\n",
       "  {'year': 2024.0,\n",
       "   'elec_kg_per_kbtu': 0.03930246189917937,\n",
       "   'kg_co2_absolute': 293092.12909900537,\n",
       "   'kg_co2_per_sf': 1.3956768052333588},\n",
       "  {'year': 2026.0,\n",
       "   'elec_kg_per_kbtu': 0.0335873388042204,\n",
       "   'kg_co2_absolute': 251468.6593715075,\n",
       "   'kg_co2_per_sf': 1.1974698065309881},\n",
       "  {'year': 2028.0,\n",
       "   'elec_kg_per_kbtu': 0.02816529894490035,\n",
       "   'kg_co2_absolute': 211979.72655311204,\n",
       "   'kg_co2_per_sf': 1.0094272693005335},\n",
       "  {'year': 2030.0,\n",
       "   'elec_kg_per_kbtu': 0.024882766705744432,\n",
       "   'kg_co2_absolute': 188072.91317116455,\n",
       "   'kg_co2_per_sf': 0.8955853008150693},\n",
       "  {'year': 2032.0,\n",
       "   'elec_kg_per_kbtu': 0.0238862837045721,\n",
       "   'kg_co2_absolute': 180815.4876802162,\n",
       "   'kg_co2_per_sf': 0.8610261318105533},\n",
       "  {'year': 2034.0,\n",
       "   'elec_kg_per_kbtu': 0.02142438452520516,\n",
       "   'kg_co2_absolute': 162885.37764375555,\n",
       "   'kg_co2_per_sf': 0.775644655446455},\n",
       "  {'year': 2036.0,\n",
       "   'elec_kg_per_kbtu': 0.02579132473622509,\n",
       "   'kg_co2_absolute': 194689.97758938215,\n",
       "   'kg_co2_per_sf': 0.9270951313780103},\n",
       "  {'year': 2038.0,\n",
       "   'elec_kg_per_kbtu': 0.02637749120750293,\n",
       "   'kg_co2_absolute': 198959.05140758707,\n",
       "   'kg_co2_per_sf': 0.9474240543218432},\n",
       "  {'year': 2040.0,\n",
       "   'elec_kg_per_kbtu': 0.023856975381008207,\n",
       "   'kg_co2_absolute': 180602.03398930596,\n",
       "   'kg_co2_per_sf': 0.8600096856633617},\n",
       "  {'year': 2042.0,\n",
       "   'elec_kg_per_kbtu': 0.024237983587338804,\n",
       "   'kg_co2_absolute': 183376.93197113913,\n",
       "   'kg_co2_per_sf': 0.873223485576853},\n",
       "  {'year': 2044.0,\n",
       "   'elec_kg_per_kbtu': 0.024531066822977725,\n",
       "   'kg_co2_absolute': 185511.4688802416,\n",
       "   'kg_co2_per_sf': 0.8833879470487694},\n",
       "  {'year': 2046.0,\n",
       "   'elec_kg_per_kbtu': 0.023739742086752638,\n",
       "   'kg_co2_absolute': 179748.21922566497,\n",
       "   'kg_co2_per_sf': 0.8559439010745951},\n",
       "  {'year': 2048.0,\n",
       "   'elec_kg_per_kbtu': 0.023944900351699883,\n",
       "   'kg_co2_absolute': 181242.39506203667,\n",
       "   'kg_co2_per_sf': 0.8630590241049365},\n",
       "  {'year': 2050.0,\n",
       "   'elec_kg_per_kbtu': 0.02321219226260258,\n",
       "   'kg_co2_absolute': 175906.05278928057,\n",
       "   'kg_co2_per_sf': 0.8376478704251455}],\n",
       " 'enduses': {'enduses_absolute_kbtu': [{'enduse': 'Cooling',\n",
       "    'subcategory': 'General',\n",
       "    'fuel': 'Electricity',\n",
       "    'kbtu_absolute': 418452.54029919376},\n",
       "   {'enduse': 'Exterior Equipment',\n",
       "    'subcategory': 'Transformer',\n",
       "    'fuel': 'Electricity',\n",
       "    'kbtu_absolute': 51944.032782325245},\n",
       "   {'enduse': 'Exterior Lighting',\n",
       "    'subcategory': 'General',\n",
       "    'fuel': 'Electricity',\n",
       "    'kbtu_absolute': 440258.6023225667},\n",
       "   {'enduse': 'Fans',\n",
       "    'subcategory': 'General',\n",
       "    'fuel': 'Electricity',\n",
       "    'kbtu_absolute': 531895.3883013839},\n",
       "   {'enduse': 'Heat Rejection',\n",
       "    'subcategory': 'General',\n",
       "    'fuel': 'Electricity',\n",
       "    'kbtu_absolute': 18125.937424053758},\n",
       "   {'enduse': 'Heating',\n",
       "    'subcategory': 'Boiler',\n",
       "    'fuel': 'electricity',\n",
       "    'kbtu_absolute': 276717.13852878474},\n",
       "   {'enduse': 'Heating',\n",
       "    'subcategory': 'General',\n",
       "    'fuel': 'Natural Gas',\n",
       "    'kbtu_absolute': 90194.16909839322},\n",
       "   {'enduse': 'Heating',\n",
       "    'subcategory': 'Other',\n",
       "    'fuel': 'electricity',\n",
       "    'kbtu_absolute': 276717.13852878474},\n",
       "   {'enduse': 'Interior Equipment',\n",
       "    'subcategory': 'ElevatorLift',\n",
       "    'fuel': 'Electricity',\n",
       "    'kbtu_absolute': 394159.6450186705},\n",
       "   {'enduse': 'Interior Equipment',\n",
       "    'subcategory': 'ElevatorLightsFan',\n",
       "    'fuel': 'Electricity',\n",
       "    'kbtu_absolute': 1219.0608121186},\n",
       "   {'enduse': 'Interior Equipment',\n",
       "    'subcategory': 'MiscPlug',\n",
       "    'fuel': 'Electricity',\n",
       "    'kbtu_absolute': 2510165.282991629},\n",
       "   {'enduse': 'Interior Lighting',\n",
       "    'subcategory': 'LightsPlugIn',\n",
       "    'fuel': 'Electricity',\n",
       "    'kbtu_absolute': 95874.38020965664},\n",
       "   {'enduse': 'Interior Lighting',\n",
       "    'subcategory': 'LightsWired',\n",
       "    'fuel': 'Electricity',\n",
       "    'kbtu_absolute': 783681.137972947},\n",
       "   {'enduse': 'Pumps',\n",
       "    'subcategory': 'General',\n",
       "    'fuel': 'Electricity',\n",
       "    'kbtu_absolute': 90476.02819439971},\n",
       "   {'enduse': 'Water Systems',\n",
       "    'subcategory': 'Water Heater',\n",
       "    'fuel': 'Electricity',\n",
       "    'kbtu_absolute': 1393353.6204710654},\n",
       "   {'enduse': 'Water Systems',\n",
       "    'subcategory': 'Water Heater',\n",
       "    'fuel': 'Natural Gas',\n",
       "    'kbtu_absolute': 38797.16188195014}],\n",
       "  'enduses_per_sf': [{'enduse': 'Cooling',\n",
       "    'subcategory': 'General',\n",
       "    'fuel': 'Electricity',\n",
       "    'kbtu_absolute': 1.992631144281875},\n",
       "   {'enduse': 'Exterior Equipment',\n",
       "    'subcategory': 'Transformer',\n",
       "    'fuel': 'Electricity',\n",
       "    'kbtu_absolute': 0.24735253705869165},\n",
       "   {'enduse': 'Exterior Lighting',\n",
       "    'subcategory': 'General',\n",
       "    'fuel': 'Electricity',\n",
       "    'kbtu_absolute': 2.096469534869365},\n",
       "   {'enduse': 'Fans',\n",
       "    'subcategory': 'General',\n",
       "    'fuel': 'Electricity',\n",
       "    'kbtu_absolute': 2.5328351823875423},\n",
       "   {'enduse': 'Heat Rejection',\n",
       "    'subcategory': 'General',\n",
       "    'fuel': 'Electricity',\n",
       "    'kbtu_absolute': 0.08631398773358932},\n",
       "   {'enduse': 'Heating',\n",
       "    'subcategory': 'Boiler',\n",
       "    'fuel': 'electricity',\n",
       "    'kbtu_absolute': 1.3177006596608798},\n",
       "   {'enduse': 'Heating',\n",
       "    'subcategory': 'General',\n",
       "    'fuel': 'Natural Gas',\n",
       "    'kbtu_absolute': 0.429496043325682},\n",
       "   {'enduse': 'Heating',\n",
       "    'subcategory': 'Other',\n",
       "    'fuel': 'electricity',\n",
       "    'kbtu_absolute': 1.3177006596608798},\n",
       "   {'enduse': 'Interior Equipment',\n",
       "    'subcategory': 'ElevatorLift',\n",
       "    'fuel': 'Electricity',\n",
       "    'kbtu_absolute': 1.8769506905650974},\n",
       "   {'enduse': 'Interior Equipment',\n",
       "    'subcategory': 'ElevatorLightsFan',\n",
       "    'fuel': 'Electricity',\n",
       "    'kbtu_absolute': 0.005805051486279048},\n",
       "   {'enduse': 'Interior Equipment',\n",
       "    'subcategory': 'MiscPlug',\n",
       "    'fuel': 'Electricity',\n",
       "    'kbtu_absolute': 11.953168014245852},\n",
       "   {'enduse': 'Interior Lighting',\n",
       "    'subcategory': 'LightsPlugIn',\n",
       "    'fuel': 'Electricity',\n",
       "    'kbtu_absolute': 0.4565446676650316},\n",
       "   {'enduse': 'Interior Lighting',\n",
       "    'subcategory': 'LightsWired',\n",
       "    'fuel': 'Electricity',\n",
       "    'kbtu_absolute': 3.731814942728319},\n",
       "   {'enduse': 'Pumps',\n",
       "    'subcategory': 'General',\n",
       "    'fuel': 'Electricity',\n",
       "    'kbtu_absolute': 0.43083822949714146},\n",
       "   {'enduse': 'Water Systems',\n",
       "    'subcategory': 'Water Heater',\n",
       "    'fuel': 'Electricity',\n",
       "    'kbtu_absolute': 6.6350172403384065},\n",
       "   {'enduse': 'Water Systems',\n",
       "    'subcategory': 'Water Heater',\n",
       "    'fuel': 'Natural Gas',\n",
       "    'kbtu_absolute': 0.18474838991404827}],\n",
       "  'area': 210000},\n",
       " 'projection_factors': [{'state': 'NY',\n",
       "   'case': 'MidCase',\n",
       "   'year': 2018,\n",
       "   'co2_gen_kg_per_mwh': 179.3,\n",
       "   'co2_load_enduse_kg_per_mwh': 204.9},\n",
       "  {'state': 'NY',\n",
       "   'case': 'MidCase',\n",
       "   'year': 2020,\n",
       "   'co2_gen_kg_per_mwh': 172.2,\n",
       "   'co2_load_enduse_kg_per_mwh': 193.3},\n",
       "  {'state': 'NY',\n",
       "   'case': 'MidCase',\n",
       "   'year': 2022,\n",
       "   'co2_gen_kg_per_mwh': 186.0,\n",
       "   'co2_load_enduse_kg_per_mwh': 209.0},\n",
       "  {'state': 'NY',\n",
       "   'case': 'MidCase',\n",
       "   'year': 2024,\n",
       "   'co2_gen_kg_per_mwh': 134.1,\n",
       "   'co2_load_enduse_kg_per_mwh': 154.2},\n",
       "  {'state': 'NY',\n",
       "   'case': 'MidCase',\n",
       "   'year': 2026,\n",
       "   'co2_gen_kg_per_mwh': 114.6,\n",
       "   'co2_load_enduse_kg_per_mwh': 133.5},\n",
       "  {'state': 'NY',\n",
       "   'case': 'MidCase',\n",
       "   'year': 2028,\n",
       "   'co2_gen_kg_per_mwh': 96.1,\n",
       "   'co2_load_enduse_kg_per_mwh': 113.3},\n",
       "  {'state': 'NY',\n",
       "   'case': 'MidCase',\n",
       "   'year': 2030,\n",
       "   'co2_gen_kg_per_mwh': 84.9,\n",
       "   'co2_load_enduse_kg_per_mwh': 100.6},\n",
       "  {'state': 'NY',\n",
       "   'case': 'MidCase',\n",
       "   'year': 2032,\n",
       "   'co2_gen_kg_per_mwh': 81.5,\n",
       "   'co2_load_enduse_kg_per_mwh': 97.9},\n",
       "  {'state': 'NY',\n",
       "   'case': 'MidCase',\n",
       "   'year': 2034,\n",
       "   'co2_gen_kg_per_mwh': 73.1,\n",
       "   'co2_load_enduse_kg_per_mwh': 90.0},\n",
       "  {'state': 'NY',\n",
       "   'case': 'MidCase',\n",
       "   'year': 2036,\n",
       "   'co2_gen_kg_per_mwh': 88.0,\n",
       "   'co2_load_enduse_kg_per_mwh': 105.2},\n",
       "  {'state': 'NY',\n",
       "   'case': 'MidCase',\n",
       "   'year': 2038,\n",
       "   'co2_gen_kg_per_mwh': 90.0,\n",
       "   'co2_load_enduse_kg_per_mwh': 105.6},\n",
       "  {'state': 'NY',\n",
       "   'case': 'MidCase',\n",
       "   'year': 2040,\n",
       "   'co2_gen_kg_per_mwh': 81.4,\n",
       "   'co2_load_enduse_kg_per_mwh': 96.4},\n",
       "  {'state': 'NY',\n",
       "   'case': 'MidCase',\n",
       "   'year': 2042,\n",
       "   'co2_gen_kg_per_mwh': 82.7,\n",
       "   'co2_load_enduse_kg_per_mwh': 98.2},\n",
       "  {'state': 'NY',\n",
       "   'case': 'MidCase',\n",
       "   'year': 2044,\n",
       "   'co2_gen_kg_per_mwh': 83.7,\n",
       "   'co2_load_enduse_kg_per_mwh': 97.9},\n",
       "  {'state': 'NY',\n",
       "   'case': 'MidCase',\n",
       "   'year': 2046,\n",
       "   'co2_gen_kg_per_mwh': 81.0,\n",
       "   'co2_load_enduse_kg_per_mwh': 97.5},\n",
       "  {'state': 'NY',\n",
       "   'case': 'MidCase',\n",
       "   'year': 2048,\n",
       "   'co2_gen_kg_per_mwh': 81.7,\n",
       "   'co2_load_enduse_kg_per_mwh': 97.9},\n",
       "  {'state': 'NY',\n",
       "   'case': 'MidCase',\n",
       "   'year': 2050,\n",
       "   'co2_gen_kg_per_mwh': 79.2,\n",
       "   'co2_load_enduse_kg_per_mwh': 96.4}]}"
      ]
     },
     "execution_count": 22,
     "metadata": {},
     "output_type": "execute_result"
    }
   ],
   "source": [
    "\n",
    "argdict = {\n",
    "    'state': 'NY',\n",
    "    'climate_zone': '5A',\n",
    "    'projection_case': 'MidCase',\n",
    "    'design_areas': [\n",
    "        {\n",
    "            'type': 'ApartmentHighRise',\n",
    "            'area': 200000,\n",
    "            'heating_fuel': 'electricity',\n",
    "            'dhw_fuel': 'Electricity',\n",
    "            'heating_cop': 2.5,\n",
    "            'dhw_cop': 2.5,\n",
    "            'ashrae_standard': 'STD2013'\n",
    "        },\n",
    "        {\n",
    "            'type': 'OfficeSmall',\n",
    "            'area': 10000,\n",
    "            'heating_fuel': 'Natural Gas',\n",
    "            'dhw_fuel': 'Natural Gas',\n",
    "            'heating_cop': 0.8,\n",
    "            'dhw_cop': 0.8,\n",
    "            'ashrae_standard': 'STD2013'\n",
    "        }],\n",
    "}\n",
    "\n",
    "payload = json.dumps(argdict)\n",
    "localhost = 'http://127.0.0.1:5000'\n",
    "herokuhost =  'https://akf-becp-pyapi.herokuapp.com/'\n",
    "\n",
    "\n",
    "r = requests.get(\n",
    "    f'{localhost}/get_projection_from_reference_buildings/?params={payload}'\n",
    ")\n",
    "js = r.json()\n",
    "\n",
    "js"
   ]
  },
  {
   "cell_type": "code",
   "execution_count": null,
   "metadata": {},
   "outputs": [],
   "source": []
  },
  {
   "cell_type": "code",
   "execution_count": 23,
   "metadata": {},
   "outputs": [],
   "source": [
    "# manual enduses\n",
    "\n",
    "config = {\n",
    "    'state': 'MA',\n",
    "    'projection_case': 'MidCase',\n",
    "    'area': 215000,\n",
    "    'enduses': [\n",
    "        {\n",
    "            'enduse': 'elec',\n",
    "            'fuel': 'electricity',\n",
    "            'kbtu': 7129e3\n",
    "        },\n",
    "        {\n",
    "            'enduse': 'gas',\n",
    "            'fuel': 'natural gas',\n",
    "            'kbtu': 3111e3\n",
    "        },\n",
    "    ]\n",
    "}\n",
    "\n",
    "payload = json.dumps(config)\n",
    "localhost = 'http://127.0.0.1:5000'\n",
    "herokuhost =  'https://akf-becp-pyapi.herokuapp.com/'\n",
    "\n",
    "r = requests.get(\n",
    "    f'{localhost}/get_projection_from_manual_enduses/?params={payload}'\n",
    ")\n",
    "\n",
    "js = r.json()\n",
    "\n",
    "\n",
    "\n"
   ]
  },
  {
   "cell_type": "code",
   "execution_count": 24,
   "metadata": {},
   "outputs": [
    {
     "data": {
      "application/vnd.plotly.v1+json": {
       "config": {
        "plotlyServerURL": "https://plot.ly"
       },
       "data": [
        {
         "domain": {
          "x": [
           0,
           1
          ],
          "y": [
           0,
           1
          ]
         },
         "hole": 0.5,
         "hovertemplate": "fuel=%{label}<br>kbtu=%{value}<extra></extra>",
         "labels": [
          "electricity",
          "natural gas"
         ],
         "legendgroup": "",
         "name": "",
         "showlegend": true,
         "type": "pie",
         "values": [
          33.15813953488372,
          14.469767441860466
         ]
        }
       ],
       "layout": {
        "height": 250,
        "legend": {
         "tracegroupgap": 0
        },
        "template": {
         "data": {
          "bar": [
           {
            "error_x": {
             "color": "#2a3f5f"
            },
            "error_y": {
             "color": "#2a3f5f"
            },
            "marker": {
             "line": {
              "color": "#E5ECF6",
              "width": 0.5
             },
             "pattern": {
              "fillmode": "overlay",
              "size": 10,
              "solidity": 0.2
             }
            },
            "type": "bar"
           }
          ],
          "barpolar": [
           {
            "marker": {
             "line": {
              "color": "#E5ECF6",
              "width": 0.5
             },
             "pattern": {
              "fillmode": "overlay",
              "size": 10,
              "solidity": 0.2
             }
            },
            "type": "barpolar"
           }
          ],
          "carpet": [
           {
            "aaxis": {
             "endlinecolor": "#2a3f5f",
             "gridcolor": "white",
             "linecolor": "white",
             "minorgridcolor": "white",
             "startlinecolor": "#2a3f5f"
            },
            "baxis": {
             "endlinecolor": "#2a3f5f",
             "gridcolor": "white",
             "linecolor": "white",
             "minorgridcolor": "white",
             "startlinecolor": "#2a3f5f"
            },
            "type": "carpet"
           }
          ],
          "choropleth": [
           {
            "colorbar": {
             "outlinewidth": 0,
             "ticks": ""
            },
            "type": "choropleth"
           }
          ],
          "contour": [
           {
            "colorbar": {
             "outlinewidth": 0,
             "ticks": ""
            },
            "colorscale": [
             [
              0,
              "#0d0887"
             ],
             [
              0.1111111111111111,
              "#46039f"
             ],
             [
              0.2222222222222222,
              "#7201a8"
             ],
             [
              0.3333333333333333,
              "#9c179e"
             ],
             [
              0.4444444444444444,
              "#bd3786"
             ],
             [
              0.5555555555555556,
              "#d8576b"
             ],
             [
              0.6666666666666666,
              "#ed7953"
             ],
             [
              0.7777777777777778,
              "#fb9f3a"
             ],
             [
              0.8888888888888888,
              "#fdca26"
             ],
             [
              1,
              "#f0f921"
             ]
            ],
            "type": "contour"
           }
          ],
          "contourcarpet": [
           {
            "colorbar": {
             "outlinewidth": 0,
             "ticks": ""
            },
            "type": "contourcarpet"
           }
          ],
          "heatmap": [
           {
            "colorbar": {
             "outlinewidth": 0,
             "ticks": ""
            },
            "colorscale": [
             [
              0,
              "#0d0887"
             ],
             [
              0.1111111111111111,
              "#46039f"
             ],
             [
              0.2222222222222222,
              "#7201a8"
             ],
             [
              0.3333333333333333,
              "#9c179e"
             ],
             [
              0.4444444444444444,
              "#bd3786"
             ],
             [
              0.5555555555555556,
              "#d8576b"
             ],
             [
              0.6666666666666666,
              "#ed7953"
             ],
             [
              0.7777777777777778,
              "#fb9f3a"
             ],
             [
              0.8888888888888888,
              "#fdca26"
             ],
             [
              1,
              "#f0f921"
             ]
            ],
            "type": "heatmap"
           }
          ],
          "heatmapgl": [
           {
            "colorbar": {
             "outlinewidth": 0,
             "ticks": ""
            },
            "colorscale": [
             [
              0,
              "#0d0887"
             ],
             [
              0.1111111111111111,
              "#46039f"
             ],
             [
              0.2222222222222222,
              "#7201a8"
             ],
             [
              0.3333333333333333,
              "#9c179e"
             ],
             [
              0.4444444444444444,
              "#bd3786"
             ],
             [
              0.5555555555555556,
              "#d8576b"
             ],
             [
              0.6666666666666666,
              "#ed7953"
             ],
             [
              0.7777777777777778,
              "#fb9f3a"
             ],
             [
              0.8888888888888888,
              "#fdca26"
             ],
             [
              1,
              "#f0f921"
             ]
            ],
            "type": "heatmapgl"
           }
          ],
          "histogram": [
           {
            "marker": {
             "pattern": {
              "fillmode": "overlay",
              "size": 10,
              "solidity": 0.2
             }
            },
            "type": "histogram"
           }
          ],
          "histogram2d": [
           {
            "colorbar": {
             "outlinewidth": 0,
             "ticks": ""
            },
            "colorscale": [
             [
              0,
              "#0d0887"
             ],
             [
              0.1111111111111111,
              "#46039f"
             ],
             [
              0.2222222222222222,
              "#7201a8"
             ],
             [
              0.3333333333333333,
              "#9c179e"
             ],
             [
              0.4444444444444444,
              "#bd3786"
             ],
             [
              0.5555555555555556,
              "#d8576b"
             ],
             [
              0.6666666666666666,
              "#ed7953"
             ],
             [
              0.7777777777777778,
              "#fb9f3a"
             ],
             [
              0.8888888888888888,
              "#fdca26"
             ],
             [
              1,
              "#f0f921"
             ]
            ],
            "type": "histogram2d"
           }
          ],
          "histogram2dcontour": [
           {
            "colorbar": {
             "outlinewidth": 0,
             "ticks": ""
            },
            "colorscale": [
             [
              0,
              "#0d0887"
             ],
             [
              0.1111111111111111,
              "#46039f"
             ],
             [
              0.2222222222222222,
              "#7201a8"
             ],
             [
              0.3333333333333333,
              "#9c179e"
             ],
             [
              0.4444444444444444,
              "#bd3786"
             ],
             [
              0.5555555555555556,
              "#d8576b"
             ],
             [
              0.6666666666666666,
              "#ed7953"
             ],
             [
              0.7777777777777778,
              "#fb9f3a"
             ],
             [
              0.8888888888888888,
              "#fdca26"
             ],
             [
              1,
              "#f0f921"
             ]
            ],
            "type": "histogram2dcontour"
           }
          ],
          "mesh3d": [
           {
            "colorbar": {
             "outlinewidth": 0,
             "ticks": ""
            },
            "type": "mesh3d"
           }
          ],
          "parcoords": [
           {
            "line": {
             "colorbar": {
              "outlinewidth": 0,
              "ticks": ""
             }
            },
            "type": "parcoords"
           }
          ],
          "pie": [
           {
            "automargin": true,
            "type": "pie"
           }
          ],
          "scatter": [
           {
            "marker": {
             "colorbar": {
              "outlinewidth": 0,
              "ticks": ""
             }
            },
            "type": "scatter"
           }
          ],
          "scatter3d": [
           {
            "line": {
             "colorbar": {
              "outlinewidth": 0,
              "ticks": ""
             }
            },
            "marker": {
             "colorbar": {
              "outlinewidth": 0,
              "ticks": ""
             }
            },
            "type": "scatter3d"
           }
          ],
          "scattercarpet": [
           {
            "marker": {
             "colorbar": {
              "outlinewidth": 0,
              "ticks": ""
             }
            },
            "type": "scattercarpet"
           }
          ],
          "scattergeo": [
           {
            "marker": {
             "colorbar": {
              "outlinewidth": 0,
              "ticks": ""
             }
            },
            "type": "scattergeo"
           }
          ],
          "scattergl": [
           {
            "marker": {
             "colorbar": {
              "outlinewidth": 0,
              "ticks": ""
             }
            },
            "type": "scattergl"
           }
          ],
          "scattermapbox": [
           {
            "marker": {
             "colorbar": {
              "outlinewidth": 0,
              "ticks": ""
             }
            },
            "type": "scattermapbox"
           }
          ],
          "scatterpolar": [
           {
            "marker": {
             "colorbar": {
              "outlinewidth": 0,
              "ticks": ""
             }
            },
            "type": "scatterpolar"
           }
          ],
          "scatterpolargl": [
           {
            "marker": {
             "colorbar": {
              "outlinewidth": 0,
              "ticks": ""
             }
            },
            "type": "scatterpolargl"
           }
          ],
          "scatterternary": [
           {
            "marker": {
             "colorbar": {
              "outlinewidth": 0,
              "ticks": ""
             }
            },
            "type": "scatterternary"
           }
          ],
          "surface": [
           {
            "colorbar": {
             "outlinewidth": 0,
             "ticks": ""
            },
            "colorscale": [
             [
              0,
              "#0d0887"
             ],
             [
              0.1111111111111111,
              "#46039f"
             ],
             [
              0.2222222222222222,
              "#7201a8"
             ],
             [
              0.3333333333333333,
              "#9c179e"
             ],
             [
              0.4444444444444444,
              "#bd3786"
             ],
             [
              0.5555555555555556,
              "#d8576b"
             ],
             [
              0.6666666666666666,
              "#ed7953"
             ],
             [
              0.7777777777777778,
              "#fb9f3a"
             ],
             [
              0.8888888888888888,
              "#fdca26"
             ],
             [
              1,
              "#f0f921"
             ]
            ],
            "type": "surface"
           }
          ],
          "table": [
           {
            "cells": {
             "fill": {
              "color": "#EBF0F8"
             },
             "line": {
              "color": "white"
             }
            },
            "header": {
             "fill": {
              "color": "#C8D4E3"
             },
             "line": {
              "color": "white"
             }
            },
            "type": "table"
           }
          ]
         },
         "layout": {
          "annotationdefaults": {
           "arrowcolor": "#2a3f5f",
           "arrowhead": 0,
           "arrowwidth": 1
          },
          "autotypenumbers": "strict",
          "coloraxis": {
           "colorbar": {
            "outlinewidth": 0,
            "ticks": ""
           }
          },
          "colorscale": {
           "diverging": [
            [
             0,
             "#8e0152"
            ],
            [
             0.1,
             "#c51b7d"
            ],
            [
             0.2,
             "#de77ae"
            ],
            [
             0.3,
             "#f1b6da"
            ],
            [
             0.4,
             "#fde0ef"
            ],
            [
             0.5,
             "#f7f7f7"
            ],
            [
             0.6,
             "#e6f5d0"
            ],
            [
             0.7,
             "#b8e186"
            ],
            [
             0.8,
             "#7fbc41"
            ],
            [
             0.9,
             "#4d9221"
            ],
            [
             1,
             "#276419"
            ]
           ],
           "sequential": [
            [
             0,
             "#0d0887"
            ],
            [
             0.1111111111111111,
             "#46039f"
            ],
            [
             0.2222222222222222,
             "#7201a8"
            ],
            [
             0.3333333333333333,
             "#9c179e"
            ],
            [
             0.4444444444444444,
             "#bd3786"
            ],
            [
             0.5555555555555556,
             "#d8576b"
            ],
            [
             0.6666666666666666,
             "#ed7953"
            ],
            [
             0.7777777777777778,
             "#fb9f3a"
            ],
            [
             0.8888888888888888,
             "#fdca26"
            ],
            [
             1,
             "#f0f921"
            ]
           ],
           "sequentialminus": [
            [
             0,
             "#0d0887"
            ],
            [
             0.1111111111111111,
             "#46039f"
            ],
            [
             0.2222222222222222,
             "#7201a8"
            ],
            [
             0.3333333333333333,
             "#9c179e"
            ],
            [
             0.4444444444444444,
             "#bd3786"
            ],
            [
             0.5555555555555556,
             "#d8576b"
            ],
            [
             0.6666666666666666,
             "#ed7953"
            ],
            [
             0.7777777777777778,
             "#fb9f3a"
            ],
            [
             0.8888888888888888,
             "#fdca26"
            ],
            [
             1,
             "#f0f921"
            ]
           ]
          },
          "colorway": [
           "#636efa",
           "#EF553B",
           "#00cc96",
           "#ab63fa",
           "#FFA15A",
           "#19d3f3",
           "#FF6692",
           "#B6E880",
           "#FF97FF",
           "#FECB52"
          ],
          "font": {
           "color": "#2a3f5f"
          },
          "geo": {
           "bgcolor": "white",
           "lakecolor": "white",
           "landcolor": "#E5ECF6",
           "showlakes": true,
           "showland": true,
           "subunitcolor": "white"
          },
          "hoverlabel": {
           "align": "left"
          },
          "hovermode": "closest",
          "mapbox": {
           "style": "light"
          },
          "paper_bgcolor": "white",
          "plot_bgcolor": "#E5ECF6",
          "polar": {
           "angularaxis": {
            "gridcolor": "white",
            "linecolor": "white",
            "ticks": ""
           },
           "bgcolor": "#E5ECF6",
           "radialaxis": {
            "gridcolor": "white",
            "linecolor": "white",
            "ticks": ""
           }
          },
          "scene": {
           "xaxis": {
            "backgroundcolor": "#E5ECF6",
            "gridcolor": "white",
            "gridwidth": 2,
            "linecolor": "white",
            "showbackground": true,
            "ticks": "",
            "zerolinecolor": "white"
           },
           "yaxis": {
            "backgroundcolor": "#E5ECF6",
            "gridcolor": "white",
            "gridwidth": 2,
            "linecolor": "white",
            "showbackground": true,
            "ticks": "",
            "zerolinecolor": "white"
           },
           "zaxis": {
            "backgroundcolor": "#E5ECF6",
            "gridcolor": "white",
            "gridwidth": 2,
            "linecolor": "white",
            "showbackground": true,
            "ticks": "",
            "zerolinecolor": "white"
           }
          },
          "shapedefaults": {
           "line": {
            "color": "#2a3f5f"
           }
          },
          "ternary": {
           "aaxis": {
            "gridcolor": "white",
            "linecolor": "white",
            "ticks": ""
           },
           "baxis": {
            "gridcolor": "white",
            "linecolor": "white",
            "ticks": ""
           },
           "bgcolor": "#E5ECF6",
           "caxis": {
            "gridcolor": "white",
            "linecolor": "white",
            "ticks": ""
           }
          },
          "title": {
           "x": 0.05
          },
          "xaxis": {
           "automargin": true,
           "gridcolor": "white",
           "linecolor": "white",
           "ticks": "",
           "title": {
            "standoff": 15
           },
           "zerolinecolor": "white",
           "zerolinewidth": 2
          },
          "yaxis": {
           "automargin": true,
           "gridcolor": "white",
           "linecolor": "white",
           "ticks": "",
           "title": {
            "standoff": 15
           },
           "zerolinecolor": "white",
           "zerolinewidth": 2
          }
         }
        },
        "title": {
         "text": "site energy"
        },
        "width": 250
       }
      }
     },
     "metadata": {},
     "output_type": "display_data"
    }
   ],
   "source": [
    "df_projection = pd.DataFrame(js['emissions_projection'])\n",
    "df_enduses = pd.DataFrame(js['enduses']['enduses_per_sf'])\n",
    "df_enduses\n",
    "px.pie(df_enduses, values='kbtu', names='fuel', labels='kbtu', width=250, height=250, hole=0.5, title='site energy')\n",
    "# px.line(df_projection, x='year', y='kg_co2_per_sf')\n",
    "\n",
    "\n"
   ]
  }
 ],
 "metadata": {
  "interpreter": {
   "hash": "40d3a090f54c6569ab1632332b64b2c03c39dcf918b08424e98f38b5ae0af88f"
  },
  "kernelspec": {
   "display_name": "Python 3.8.5 64-bit ('base': conda)",
   "language": "python",
   "name": "python3"
  },
  "language_info": {
   "codemirror_mode": {
    "name": "ipython",
    "version": 3
   },
   "file_extension": ".py",
   "mimetype": "text/x-python",
   "name": "python",
   "nbconvert_exporter": "python",
   "pygments_lexer": "ipython3",
   "version": "3.8.12"
  },
  "orig_nbformat": 4
 },
 "nbformat": 4,
 "nbformat_minor": 2
}
